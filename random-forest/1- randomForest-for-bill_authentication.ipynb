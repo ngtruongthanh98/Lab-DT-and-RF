{
 "cells": [
  {
   "cell_type": "markdown",
   "metadata": {
    "colab_type": "text",
    "id": "gvKshvFzQorr"
   },
   "source": [
    "# Sử dụng Random Forest trong Python"
   ]
  },
  {
   "cell_type": "markdown",
   "metadata": {},
   "source": [
    "- Quản Thành Thơ, Nguyễn Hữu Vũ \n",
    "- Nhóm nghiên cứu về AI đại học Bách Khoa Tp. Hồ Chí Minh"
   ]
  },
  {
   "cell_type": "code",
   "execution_count": 1,
   "metadata": {},
   "outputs": [],
   "source": [
    "import pandas as pd  \n",
    "import seaborn as sns\n",
    "import matplotlib.pyplot as plt\n",
    "import numpy as np"
   ]
  },
  {
   "cell_type": "code",
   "execution_count": 2,
   "metadata": {
    "colab": {
     "autoexec": {
      "startup": false,
      "wait_interval": 0
     }
    },
    "colab_type": "code",
    "id": "hFmx_vCrVEX3"
   },
   "outputs": [],
   "source": [
    "dataset_filename = \"bill_authentication.csv\""
   ]
  },
  {
   "cell_type": "code",
   "execution_count": 3,
   "metadata": {
    "colab": {
     "autoexec": {
      "startup": false,
      "wait_interval": 0
     },
     "base_uri": "https://localhost:8080/",
     "height": 35
    },
    "colab_type": "code",
    "executionInfo": {
     "elapsed": 856,
     "status": "ok",
     "timestamp": 1526176337475,
     "user": {
      "displayName": "THUAN LE DINH",
      "photoUrl": "https://lh3.googleusercontent.com/a/default-user=s128",
      "userId": "112382990335944671707"
     },
     "user_tz": -420
    },
    "id": "t85tLpXzQor5",
    "outputId": "3f4f66e8-7ea5-404a-8444-213cfa815f76",
    "scrolled": false
   },
   "outputs": [],
   "source": [
    "\n",
    "dataset = pd.read_csv(dataset_filename)"
   ]
  },
  {
   "cell_type": "markdown",
   "metadata": {},
   "source": [
    "## 1) Phân tích dữ liệu"
   ]
  },
  {
   "cell_type": "code",
   "execution_count": 4,
   "metadata": {},
   "outputs": [
    {
     "data": {
      "text/plain": [
       "(1372, 5)"
      ]
     },
     "execution_count": 4,
     "metadata": {},
     "output_type": "execute_result"
    }
   ],
   "source": [
    "dataset.shape"
   ]
  },
  {
   "cell_type": "code",
   "execution_count": 5,
   "metadata": {},
   "outputs": [
    {
     "name": "stdout",
     "output_type": "stream",
     "text": [
      "<class 'pandas.core.frame.DataFrame'>\n",
      "RangeIndex: 1372 entries, 0 to 1371\n",
      "Data columns (total 5 columns):\n",
      "Variance    1372 non-null float64\n",
      "Skewness    1372 non-null float64\n",
      "Curtosis    1372 non-null float64\n",
      "Entropy     1372 non-null float64\n",
      "Class       1372 non-null int64\n",
      "dtypes: float64(4), int64(1)\n",
      "memory usage: 53.7 KB\n"
     ]
    }
   ],
   "source": [
    "dataset.info()"
   ]
  },
  {
   "cell_type": "code",
   "execution_count": 6,
   "metadata": {},
   "outputs": [
    {
     "data": {
      "text/html": [
       "<div>\n",
       "<style scoped>\n",
       "    .dataframe tbody tr th:only-of-type {\n",
       "        vertical-align: middle;\n",
       "    }\n",
       "\n",
       "    .dataframe tbody tr th {\n",
       "        vertical-align: top;\n",
       "    }\n",
       "\n",
       "    .dataframe thead th {\n",
       "        text-align: right;\n",
       "    }\n",
       "</style>\n",
       "<table border=\"1\" class=\"dataframe\">\n",
       "  <thead>\n",
       "    <tr style=\"text-align: right;\">\n",
       "      <th></th>\n",
       "      <th>Variance</th>\n",
       "      <th>Skewness</th>\n",
       "      <th>Curtosis</th>\n",
       "      <th>Entropy</th>\n",
       "      <th>Class</th>\n",
       "    </tr>\n",
       "  </thead>\n",
       "  <tbody>\n",
       "    <tr>\n",
       "      <th>count</th>\n",
       "      <td>1372.000000</td>\n",
       "      <td>1372.000000</td>\n",
       "      <td>1372.000000</td>\n",
       "      <td>1372.000000</td>\n",
       "      <td>1372.000000</td>\n",
       "    </tr>\n",
       "    <tr>\n",
       "      <th>mean</th>\n",
       "      <td>0.433735</td>\n",
       "      <td>1.922353</td>\n",
       "      <td>1.397627</td>\n",
       "      <td>-1.191657</td>\n",
       "      <td>0.444606</td>\n",
       "    </tr>\n",
       "    <tr>\n",
       "      <th>std</th>\n",
       "      <td>2.842763</td>\n",
       "      <td>5.869047</td>\n",
       "      <td>4.310030</td>\n",
       "      <td>2.101013</td>\n",
       "      <td>0.497103</td>\n",
       "    </tr>\n",
       "    <tr>\n",
       "      <th>min</th>\n",
       "      <td>-7.042100</td>\n",
       "      <td>-13.773100</td>\n",
       "      <td>-5.286100</td>\n",
       "      <td>-8.548200</td>\n",
       "      <td>0.000000</td>\n",
       "    </tr>\n",
       "    <tr>\n",
       "      <th>25%</th>\n",
       "      <td>-1.773000</td>\n",
       "      <td>-1.708200</td>\n",
       "      <td>-1.574975</td>\n",
       "      <td>-2.413450</td>\n",
       "      <td>0.000000</td>\n",
       "    </tr>\n",
       "    <tr>\n",
       "      <th>50%</th>\n",
       "      <td>0.496180</td>\n",
       "      <td>2.319650</td>\n",
       "      <td>0.616630</td>\n",
       "      <td>-0.586650</td>\n",
       "      <td>0.000000</td>\n",
       "    </tr>\n",
       "    <tr>\n",
       "      <th>75%</th>\n",
       "      <td>2.821475</td>\n",
       "      <td>6.814625</td>\n",
       "      <td>3.179250</td>\n",
       "      <td>0.394810</td>\n",
       "      <td>1.000000</td>\n",
       "    </tr>\n",
       "    <tr>\n",
       "      <th>max</th>\n",
       "      <td>6.824800</td>\n",
       "      <td>12.951600</td>\n",
       "      <td>17.927400</td>\n",
       "      <td>2.449500</td>\n",
       "      <td>1.000000</td>\n",
       "    </tr>\n",
       "  </tbody>\n",
       "</table>\n",
       "</div>"
      ],
      "text/plain": [
       "          Variance     Skewness     Curtosis      Entropy        Class\n",
       "count  1372.000000  1372.000000  1372.000000  1372.000000  1372.000000\n",
       "mean      0.433735     1.922353     1.397627    -1.191657     0.444606\n",
       "std       2.842763     5.869047     4.310030     2.101013     0.497103\n",
       "min      -7.042100   -13.773100    -5.286100    -8.548200     0.000000\n",
       "25%      -1.773000    -1.708200    -1.574975    -2.413450     0.000000\n",
       "50%       0.496180     2.319650     0.616630    -0.586650     0.000000\n",
       "75%       2.821475     6.814625     3.179250     0.394810     1.000000\n",
       "max       6.824800    12.951600    17.927400     2.449500     1.000000"
      ]
     },
     "execution_count": 6,
     "metadata": {},
     "output_type": "execute_result"
    }
   ],
   "source": [
    "dataset.describe()"
   ]
  },
  {
   "cell_type": "code",
   "execution_count": 7,
   "metadata": {
    "colab": {
     "autoexec": {
      "startup": false,
      "wait_interval": 0
     },
     "base_uri": "https://localhost:8080/",
     "height": 35
    },
    "colab_type": "code",
    "executionInfo": {
     "elapsed": 746,
     "status": "ok",
     "timestamp": 1526170243312,
     "user": {
      "displayName": "THUAN LE DINH",
      "photoUrl": "https://lh3.googleusercontent.com/a/default-user=s128",
      "userId": "112382990335944671707"
     },
     "user_tz": -420
    },
    "id": "A0dBLnZKQosF",
    "outputId": "fd93cd39-6f68-41e3-9c98-5d58711a857f"
   },
   "outputs": [
    {
     "data": {
      "text/plain": [
       "Index(['Variance', 'Skewness', 'Curtosis', 'Entropy', 'Class'], dtype='object')"
      ]
     },
     "execution_count": 7,
     "metadata": {},
     "output_type": "execute_result"
    }
   ],
   "source": [
    "# Overview about dataset\n",
    "dataset.keys()"
   ]
  },
  {
   "cell_type": "code",
   "execution_count": 8,
   "metadata": {
    "colab": {
     "autoexec": {
      "startup": false,
      "wait_interval": 0
     },
     "base_uri": "https://localhost:8080/",
     "height": 203
    },
    "colab_type": "code",
    "executionInfo": {
     "elapsed": 728,
     "status": "ok",
     "timestamp": 1526170247767,
     "user": {
      "displayName": "THUAN LE DINH",
      "photoUrl": "https://lh3.googleusercontent.com/a/default-user=s128",
      "userId": "112382990335944671707"
     },
     "user_tz": -420
    },
    "id": "6S5WHtRnQosJ",
    "outputId": "0b65f801-aa21-4b70-d562-9a3135148e2d",
    "scrolled": true
   },
   "outputs": [
    {
     "data": {
      "text/html": [
       "<div>\n",
       "<style scoped>\n",
       "    .dataframe tbody tr th:only-of-type {\n",
       "        vertical-align: middle;\n",
       "    }\n",
       "\n",
       "    .dataframe tbody tr th {\n",
       "        vertical-align: top;\n",
       "    }\n",
       "\n",
       "    .dataframe thead th {\n",
       "        text-align: right;\n",
       "    }\n",
       "</style>\n",
       "<table border=\"1\" class=\"dataframe\">\n",
       "  <thead>\n",
       "    <tr style=\"text-align: right;\">\n",
       "      <th></th>\n",
       "      <th>Variance</th>\n",
       "      <th>Skewness</th>\n",
       "      <th>Curtosis</th>\n",
       "      <th>Entropy</th>\n",
       "      <th>Class</th>\n",
       "    </tr>\n",
       "  </thead>\n",
       "  <tbody>\n",
       "    <tr>\n",
       "      <th>0</th>\n",
       "      <td>3.62160</td>\n",
       "      <td>8.6661</td>\n",
       "      <td>-2.8073</td>\n",
       "      <td>-0.44699</td>\n",
       "      <td>0</td>\n",
       "    </tr>\n",
       "    <tr>\n",
       "      <th>1</th>\n",
       "      <td>4.54590</td>\n",
       "      <td>8.1674</td>\n",
       "      <td>-2.4586</td>\n",
       "      <td>-1.46210</td>\n",
       "      <td>0</td>\n",
       "    </tr>\n",
       "    <tr>\n",
       "      <th>2</th>\n",
       "      <td>3.86600</td>\n",
       "      <td>-2.6383</td>\n",
       "      <td>1.9242</td>\n",
       "      <td>0.10645</td>\n",
       "      <td>0</td>\n",
       "    </tr>\n",
       "    <tr>\n",
       "      <th>3</th>\n",
       "      <td>3.45660</td>\n",
       "      <td>9.5228</td>\n",
       "      <td>-4.0112</td>\n",
       "      <td>-3.59440</td>\n",
       "      <td>0</td>\n",
       "    </tr>\n",
       "    <tr>\n",
       "      <th>4</th>\n",
       "      <td>0.32924</td>\n",
       "      <td>-4.4552</td>\n",
       "      <td>4.5718</td>\n",
       "      <td>-0.98880</td>\n",
       "      <td>0</td>\n",
       "    </tr>\n",
       "  </tbody>\n",
       "</table>\n",
       "</div>"
      ],
      "text/plain": [
       "   Variance  Skewness  Curtosis  Entropy  Class\n",
       "0   3.62160    8.6661   -2.8073 -0.44699      0\n",
       "1   4.54590    8.1674   -2.4586 -1.46210      0\n",
       "2   3.86600   -2.6383    1.9242  0.10645      0\n",
       "3   3.45660    9.5228   -4.0112 -3.59440      0\n",
       "4   0.32924   -4.4552    4.5718 -0.98880      0"
      ]
     },
     "execution_count": 8,
     "metadata": {},
     "output_type": "execute_result"
    }
   ],
   "source": [
    "dataset.head()  "
   ]
  },
  {
   "cell_type": "markdown",
   "metadata": {},
   "source": [
    "### Visualization: Xác định quan hệ giữa các biến dữ liệu"
   ]
  },
  {
   "cell_type": "markdown",
   "metadata": {},
   "source": [
    "**Sử dụng pairplot**"
   ]
  },
  {
   "cell_type": "code",
   "execution_count": 9,
   "metadata": {
    "_uuid": "2d6f716ebe182a58f9941c059256a09cc7f03703",
    "scrolled": false
   },
   "outputs": [
    {
     "name": "stderr",
     "output_type": "stream",
     "text": [
      "C:\\Users\\Huu Vu\\Downloads\\Programs\\WPy-3662\\python-3.6.6.amd64\\lib\\site-packages\\statsmodels\\nonparametric\\kde.py:488: RuntimeWarning: invalid value encountered in true_divide\n",
      "  binned = fast_linbin(X, a, b, gridsize) / (delta * nobs)\n",
      "C:\\Users\\Huu Vu\\Downloads\\Programs\\WPy-3662\\python-3.6.6.amd64\\lib\\site-packages\\statsmodels\\nonparametric\\kdetools.py:34: RuntimeWarning: invalid value encountered in double_scalars\n",
      "  FAC1 = 2*(np.pi*bw/RANGE)**2\n",
      "C:\\Users\\Huu Vu\\Downloads\\Programs\\WPy-3662\\python-3.6.6.amd64\\lib\\site-packages\\numpy\\core\\fromnumeric.py:83: RuntimeWarning: invalid value encountered in reduce\n",
      "  return ufunc.reduce(obj, axis, dtype, out, **passkwargs)\n"
     ]
    },
    {
     "data": {
      "image/png": "[encoded data removed]",
      "text/plain": [
       "<Figure size 942.375x900 with 30 Axes>"
      ]
     },
     "metadata": {
      "needs_background": "light"
     },
     "output_type": "display_data"
    }
   ],
   "source": [
    "# Let's see how Sales are related with other variables using scatter plot.\n",
    "sns.pairplot(dataset, hue = 'Class', kind='scatter')\n",
    "plt.show()"
   ]
  },
  {
   "cell_type": "markdown",
   "metadata": {},
   "source": [
    "Nhìn vào 2 biểu đồ trên ta thấy "
   ]
  },
  {
   "cell_type": "markdown",
   "metadata": {},
   "source": [
    "**Sử dụng correlation table và heatmap**"
   ]
  },
  {
   "cell_type": "code",
   "execution_count": 10,
   "metadata": {
    "_uuid": "ea27ea99e47d578866a706f437d74a8fe1ad2264"
   },
   "outputs": [
    {
     "data": {
      "image/png": "[encoded data removed]",
      "text/plain": [
       "<Figure size 432x288 with 2 Axes>"
      ]
     },
     "metadata": {
      "needs_background": "light"
     },
     "output_type": "display_data"
    }
   ],
   "source": [
    "# Let's see the correlation between different variables.\n",
    "sns.heatmap(dataset.drop('Class', axis = 1). corr(), cmap=\"YlGnBu\", annot = True)\n",
    "plt.show()"
   ]
  },
  {
   "cell_type": "markdown",
   "metadata": {},
   "source": [
    "Nhìn vào 2 biểu đồ trên ta thấy `Curtosis` and `Skewness` có độ tương quan cao"
   ]
  },
  {
   "cell_type": "markdown",
   "metadata": {
    "colab_type": "text",
    "id": "NTob9ldXZST2"
   },
   "source": [
    "### 2) Chuẩn bị training data và test data"
   ]
  },
  {
   "cell_type": "markdown",
   "metadata": {},
   "source": [
    "##### Xác định `features` và `labels`"
   ]
  },
  {
   "cell_type": "markdown",
   "metadata": {
    "colab_type": "text",
    "id": "_SHtTv-AQosM"
   },
   "source": [
    "Trong dataset này, label của dữ liệu chính là giá trị trong cột **Class**"
   ]
  },
  {
   "cell_type": "code",
   "execution_count": 11,
   "metadata": {
    "colab": {
     "autoexec": {
      "startup": false,
      "wait_interval": 0
     }
    },
    "colab_type": "code",
    "id": "IWlX_Ip1QosN"
   },
   "outputs": [],
   "source": [
    "X = dataset.drop('Class', axis=1)  \n",
    "y = dataset['Class']  "
   ]
  },
  {
   "cell_type": "markdown",
   "metadata": {
    "colab_type": "text",
    "id": "0Fp9RNwf2oon"
   },
   "source": [
    "Chúng ta chia dataset thành 2 tập: training set and test set theo tỉ lện 80/20"
   ]
  },
  {
   "cell_type": "code",
   "execution_count": 12,
   "metadata": {
    "colab": {
     "autoexec": {
      "startup": false,
      "wait_interval": 0
     },
     "base_uri": "https://localhost:8080/",
     "height": 51
    },
    "colab_type": "code",
    "executionInfo": {
     "elapsed": 939,
     "status": "ok",
     "timestamp": 1526171100970,
     "user": {
      "displayName": "THUAN LE DINH",
      "photoUrl": "https://lh3.googleusercontent.com/a/default-user=s128",
      "userId": "112382990335944671707"
     },
     "user_tz": -420
    },
    "id": "8fXzzhfHQosT",
    "outputId": "ca9631b9-160e-4b91-b342-b77fa643884a"
   },
   "outputs": [
    {
     "name": "stdout",
     "output_type": "stream",
     "text": [
      "(1097, 4) 1097\n",
      "(275, 4) (275,)\n"
     ]
    }
   ],
   "source": [
    "from sklearn.model_selection import train_test_split  \n",
    "X_train, X_test, y_train, y_test = train_test_split(X, y, test_size=0.20)\n",
    "print(X_train.shape, y_train.size)\n",
    "print(X_test.shape, y_test.shape)"
   ]
  },
  {
   "cell_type": "markdown",
   "metadata": {
    "colab_type": "text",
    "id": "MtEYAAXu3BjO"
   },
   "source": [
    "## 3) Xây dựng mô hình phân lớp  Random Forest"
   ]
  },
  {
   "cell_type": "markdown",
   "metadata": {
    "colab_type": "text",
    "id": "wh8srDnT3H2k"
   },
   "source": [
    "Chúng ta sẽ sử dụng  `RandomForestClassifier` của sklearn để xây dựng mô hình phân lớp Random Forest"
   ]
  },
  {
   "cell_type": "code",
   "execution_count": 13,
   "metadata": {
    "colab": {
     "autoexec": {
      "startup": false,
      "wait_interval": 0
     },
     "base_uri": "https://localhost:8080/",
     "height": 68
    },
    "colab_type": "code",
    "executionInfo": {
     "elapsed": 756,
     "status": "ok",
     "timestamp": 1526177004425,
     "user": {
      "displayName": "THUAN LE DINH",
      "photoUrl": "https://lh3.googleusercontent.com/a/default-user=s128",
      "userId": "112382990335944671707"
     },
     "user_tz": -420
    },
    "id": "wINr0k3k3eSY",
    "outputId": "ca36927e-c5ae-4703-f509-907ab27a6f45"
   },
   "outputs": [],
   "source": [
    "from sklearn.ensemble import RandomForestClassifier\n",
    "# Create a random forest classifier in which  number of trees is 100\n",
    "clf = RandomForestClassifier(n_estimators=100, random_state=0)\n"
   ]
  },
  {
   "cell_type": "code",
   "execution_count": 14,
   "metadata": {
    "scrolled": false
   },
   "outputs": [
    {
     "data": {
      "text/plain": [
       "RandomForestClassifier(bootstrap=True, class_weight=None, criterion='gini',\n",
       "            max_depth=None, max_features='auto', max_leaf_nodes=None,\n",
       "            min_impurity_decrease=0.0, min_impurity_split=None,\n",
       "            min_samples_leaf=1, min_samples_split=2,\n",
       "            min_weight_fraction_leaf=0.0, n_estimators=100, n_jobs=None,\n",
       "            oob_score=False, random_state=0, verbose=0, warm_start=False)"
      ]
     },
     "execution_count": 14,
     "metadata": {},
     "output_type": "execute_result"
    }
   ],
   "source": [
    "# fit data to the model\n",
    "clf.fit(X_train, y_train)"
   ]
  },
  {
   "cell_type": "markdown",
   "metadata": {},
   "source": [
    "### Xem xét kết quả trả về của mô hình"
   ]
  },
  {
   "cell_type": "code",
   "execution_count": 15,
   "metadata": {},
   "outputs": [
    {
     "data": {
      "text/plain": [
       "2"
      ]
     },
     "execution_count": 15,
     "metadata": {},
     "output_type": "execute_result"
    }
   ],
   "source": [
    "# Số class của random forest classifier\n",
    "clf.n_classes_ "
   ]
  },
  {
   "cell_type": "code",
   "execution_count": 16,
   "metadata": {
    "scrolled": true
   },
   "outputs": [
    {
     "data": {
      "text/plain": [
       "array([0, 1], dtype=int64)"
      ]
     },
     "execution_count": 16,
     "metadata": {},
     "output_type": "execute_result"
    }
   ],
   "source": [
    "# Labels của classifier\n",
    "clf.classes_ "
   ]
  },
  {
   "cell_type": "code",
   "execution_count": 17,
   "metadata": {
    "scrolled": false
   },
   "outputs": [
    {
     "data": {
      "text/plain": [
       "4"
      ]
     },
     "execution_count": 17,
     "metadata": {},
     "output_type": "execute_result"
    }
   ],
   "source": [
    "# Tổng số features đã được sử dụng để xây dựng classifier\n",
    "clf.n_features_ "
   ]
  },
  {
   "cell_type": "markdown",
   "metadata": {},
   "source": [
    "### Prediction:"
   ]
  },
  {
   "cell_type": "code",
   "execution_count": 18,
   "metadata": {
    "scrolled": true
   },
   "outputs": [
    {
     "data": {
      "text/plain": [
       "array([1, 0, 0, 1, 0, 1, 1, 1, 0, 1, 1, 0, 0, 0, 0, 0, 1, 0, 1, 0, 1, 0,\n",
       "       0, 1, 1, 0, 1, 1, 0, 0, 1, 0, 1, 1, 1, 0, 0, 1, 1, 0, 0, 1, 0, 1,\n",
       "       0, 1, 0, 0, 0, 0, 0, 1, 0, 0, 1, 0, 0, 0, 0, 1, 1, 1, 1, 1, 1, 0,\n",
       "       0, 0, 0, 0, 1, 1, 0, 1, 0, 1, 0, 0, 0, 1, 0, 0, 1, 1, 0, 0, 1, 1,\n",
       "       0, 1, 0, 1, 1, 1, 1, 0, 0, 0, 1, 0, 0, 0, 0, 0, 0, 1, 1, 0, 1, 0,\n",
       "       0, 0, 0, 0, 1, 0, 0, 1, 0, 0, 1, 0, 0, 0, 1, 1, 1, 0, 1, 1, 1, 1,\n",
       "       1, 1, 0, 0, 1, 1, 1, 0, 1, 1, 0, 0, 1, 1, 1, 0, 1, 0, 1, 1, 0, 0,\n",
       "       1, 0, 0, 1, 1, 1, 0, 1, 1, 1, 1, 0, 0, 1, 1, 0, 1, 1, 1, 1, 0, 1,\n",
       "       1, 0, 0, 0, 1, 1, 0, 1, 1, 0, 0, 0, 1, 0, 0, 0, 0, 0, 1, 0, 1, 1,\n",
       "       0, 0, 0, 0, 1, 0, 1, 1, 1, 0, 0, 0, 1, 1, 0, 0, 1, 0, 0, 1, 0, 1,\n",
       "       1, 1, 0, 1, 0, 1, 1, 1, 0, 1, 1, 0, 1, 1, 0, 0, 1, 0, 0, 0, 0, 0,\n",
       "       1, 0, 1, 0, 1, 0, 1, 1, 0, 0, 0, 1, 0, 1, 1, 1, 0, 0, 1, 1, 0, 0,\n",
       "       0, 1, 0, 1, 0, 0, 0, 0, 1, 0, 0], dtype=int64)"
      ]
     },
     "execution_count": 18,
     "metadata": {},
     "output_type": "execute_result"
    }
   ],
   "source": [
    "y_pred = clf.predict(X_test)\n",
    "y_pred"
   ]
  },
  {
   "cell_type": "markdown",
   "metadata": {
    "colab_type": "text",
    "id": "AF28eWu130Nu"
   },
   "source": [
    "### Model Evaluation"
   ]
  },
  {
   "cell_type": "code",
   "execution_count": 19,
   "metadata": {
    "scrolled": true
   },
   "outputs": [
    {
     "name": "stdout",
     "output_type": "stream",
     "text": [
      "[[144   0]\n",
      " [  1 130]]\n",
      "              precision    recall  f1-score   support\n",
      "\n",
      "           0       0.99      1.00      1.00       144\n",
      "           1       1.00      0.99      1.00       131\n",
      "\n",
      "   micro avg       1.00      1.00      1.00       275\n",
      "   macro avg       1.00      1.00      1.00       275\n",
      "weighted avg       1.00      1.00      1.00       275\n",
      "\n"
     ]
    }
   ],
   "source": [
    "from sklearn.metrics import classification_report, confusion_matrix  \n",
    "print(confusion_matrix(y_test, y_pred))  \n",
    "print(classification_report(y_test, y_pred))  "
   ]
  },
  {
   "cell_type": "code",
   "execution_count": 20,
   "metadata": {},
   "outputs": [
    {
     "data": {
      "text/plain": [
       "(275,)"
      ]
     },
     "execution_count": 20,
     "metadata": {},
     "output_type": "execute_result"
    }
   ],
   "source": [
    "y_test.values.shape"
   ]
  },
  {
   "cell_type": "code",
   "execution_count": 21,
   "metadata": {
    "scrolled": false
   },
   "outputs": [
    {
     "data": {
      "text/plain": [
       "(275,)"
      ]
     },
     "execution_count": 21,
     "metadata": {},
     "output_type": "execute_result"
    }
   ],
   "source": [
    "y_pred.shape"
   ]
  },
  {
   "cell_type": "markdown",
   "metadata": {},
   "source": [
    "##### Tình accuracy bằng `accuracy_score`"
   ]
  },
  {
   "cell_type": "code",
   "execution_count": 22,
   "metadata": {
    "scrolled": true
   },
   "outputs": [
    {
     "data": {
      "text/plain": [
       "0.9963636363636363"
      ]
     },
     "execution_count": 22,
     "metadata": {},
     "output_type": "execute_result"
    }
   ],
   "source": [
    "from sklearn.metrics import accuracy_score\n",
    "accuracy_score(y_test.values, y_pred)"
   ]
  },
  {
   "cell_type": "markdown",
   "metadata": {},
   "source": [
    "##### Sử dụng model để tính accuracy"
   ]
  },
  {
   "cell_type": "code",
   "execution_count": 23,
   "metadata": {
    "scrolled": true
   },
   "outputs": [
    {
     "name": "stdout",
     "output_type": "stream",
     "text": [
      "Random Forest classifier accuracy score for training set is 0.9963636363636363\n"
     ]
    }
   ],
   "source": [
    "# accuracy của model on testing set\n",
    "accuracy_score = clf.score(X_test, y_test)\n",
    "print(f\"Random Forest classifier accuracy score for training set is {accuracy_score}\")"
   ]
  },
  {
   "cell_type": "markdown",
   "metadata": {},
   "source": [
    "### Feature Importance"
   ]
  },
  {
   "cell_type": "code",
   "execution_count": 24,
   "metadata": {},
   "outputs": [
    {
     "data": {
      "text/plain": [
       "array([0.54017958, 0.23321692, 0.17345991, 0.05314359])"
      ]
     },
     "execution_count": 24,
     "metadata": {},
     "output_type": "execute_result"
    }
   ],
   "source": [
    "# Độ quan trọng của mỗi feature theo thứ tự\n",
    "clf.feature_importances_"
   ]
  },
  {
   "cell_type": "code",
   "execution_count": 25,
   "metadata": {},
   "outputs": [
    {
     "data": {
      "text/plain": [
       "Variance    0.540180\n",
       "Skewness    0.233217\n",
       "Curtosis    0.173460\n",
       "Entropy     0.053144\n",
       "dtype: float64"
      ]
     },
     "execution_count": 25,
     "metadata": {},
     "output_type": "execute_result"
    }
   ],
   "source": [
    "#Tạo Series object để thấy feature nào quan trọng\n",
    "feature_imp = pd.Series(clf.feature_importances_,index=X_train.columns).sort_values(ascending=False)\n",
    "feature_imp"
   ]
  },
  {
   "cell_type": "markdown",
   "metadata": {},
   "source": [
    "##### Visualize the feature importance"
   ]
  },
  {
   "cell_type": "code",
   "execution_count": 26,
   "metadata": {
    "scrolled": true
   },
   "outputs": [
    {
     "name": "stderr",
     "output_type": "stream",
     "text": [
      "No handles with labels found to put in legend.\n"
     ]
    },
    {
     "data": {
      "image/png": "[encoded data removed]",
      "text/plain": [
       "<Figure size 432x288 with 1 Axes>"
      ]
     },
     "metadata": {
      "needs_background": "light"
     },
     "output_type": "display_data"
    }
   ],
   "source": [
    "import matplotlib.pyplot as plt\n",
    "import seaborn as sns\n",
    "%matplotlib inline\n",
    "# Creating a bar plot\n",
    "sns.barplot(x=feature_imp, y=feature_imp.index)\n",
    "# Add labels to your graph\n",
    "plt.xlabel('Feature Importance Score')\n",
    "plt.ylabel('Features')\n",
    "plt.title(\"Visualizing Important Features\")\n",
    "plt.legend()\n",
    "plt.show()"
   ]
  },
  {
   "cell_type": "markdown",
   "metadata": {},
   "source": [
    "Như vậy có thể thấy `Variance` là thuộc tính quan trọng nhất. Đồng thời, ta có thể thấy độ quan trọng của thuộc tính `Entropy` rất thấp, do đó ta có thể bỏ nó và chỉ sử dụng 3 features còn lại để xây dựng classifier"
   ]
  },
  {
   "cell_type": "markdown",
   "metadata": {},
   "source": [
    "## 4) Xây dựng model dựa trên Selected Features"
   ]
  },
  {
   "cell_type": "code",
   "execution_count": 27,
   "metadata": {
    "scrolled": true
   },
   "outputs": [
    {
     "data": {
      "text/html": [
       "<div>\n",
       "<style scoped>\n",
       "    .dataframe tbody tr th:only-of-type {\n",
       "        vertical-align: middle;\n",
       "    }\n",
       "\n",
       "    .dataframe tbody tr th {\n",
       "        vertical-align: top;\n",
       "    }\n",
       "\n",
       "    .dataframe thead th {\n",
       "        text-align: right;\n",
       "    }\n",
       "</style>\n",
       "<table border=\"1\" class=\"dataframe\">\n",
       "  <thead>\n",
       "    <tr style=\"text-align: right;\">\n",
       "      <th></th>\n",
       "      <th>Variance</th>\n",
       "      <th>Skewness</th>\n",
       "      <th>Curtosis</th>\n",
       "      <th>Entropy</th>\n",
       "    </tr>\n",
       "  </thead>\n",
       "  <tbody>\n",
       "    <tr>\n",
       "      <th>783</th>\n",
       "      <td>0.47368</td>\n",
       "      <td>3.360500</td>\n",
       "      <td>-4.506400</td>\n",
       "      <td>-4.043100</td>\n",
       "    </tr>\n",
       "    <tr>\n",
       "      <th>714</th>\n",
       "      <td>2.55590</td>\n",
       "      <td>3.360500</td>\n",
       "      <td>2.032100</td>\n",
       "      <td>0.268090</td>\n",
       "    </tr>\n",
       "    <tr>\n",
       "      <th>909</th>\n",
       "      <td>-1.73220</td>\n",
       "      <td>-9.282800</td>\n",
       "      <td>7.719000</td>\n",
       "      <td>-1.716800</td>\n",
       "    </tr>\n",
       "    <tr>\n",
       "      <th>833</th>\n",
       "      <td>-2.82670</td>\n",
       "      <td>-9.040700</td>\n",
       "      <td>9.069400</td>\n",
       "      <td>-0.982330</td>\n",
       "    </tr>\n",
       "    <tr>\n",
       "      <th>1088</th>\n",
       "      <td>0.64376</td>\n",
       "      <td>3.764000</td>\n",
       "      <td>-4.473800</td>\n",
       "      <td>-4.048300</td>\n",
       "    </tr>\n",
       "    <tr>\n",
       "      <th>625</th>\n",
       "      <td>4.09480</td>\n",
       "      <td>-2.967400</td>\n",
       "      <td>2.368900</td>\n",
       "      <td>0.754290</td>\n",
       "    </tr>\n",
       "    <tr>\n",
       "      <th>164</th>\n",
       "      <td>4.88510</td>\n",
       "      <td>1.599500</td>\n",
       "      <td>-0.000291</td>\n",
       "      <td>1.640100</td>\n",
       "    </tr>\n",
       "    <tr>\n",
       "      <th>215</th>\n",
       "      <td>6.09190</td>\n",
       "      <td>2.967300</td>\n",
       "      <td>-1.326700</td>\n",
       "      <td>1.455100</td>\n",
       "    </tr>\n",
       "    <tr>\n",
       "      <th>750</th>\n",
       "      <td>4.04220</td>\n",
       "      <td>-4.391000</td>\n",
       "      <td>4.746600</td>\n",
       "      <td>1.137000</td>\n",
       "    </tr>\n",
       "    <tr>\n",
       "      <th>519</th>\n",
       "      <td>3.46690</td>\n",
       "      <td>6.870000</td>\n",
       "      <td>-1.056800</td>\n",
       "      <td>-0.731470</td>\n",
       "    </tr>\n",
       "    <tr>\n",
       "      <th>1263</th>\n",
       "      <td>-0.87834</td>\n",
       "      <td>3.257000</td>\n",
       "      <td>-3.677800</td>\n",
       "      <td>-3.294400</td>\n",
       "    </tr>\n",
       "    <tr>\n",
       "      <th>33</th>\n",
       "      <td>-0.96511</td>\n",
       "      <td>9.411100</td>\n",
       "      <td>1.730500</td>\n",
       "      <td>-4.862900</td>\n",
       "    </tr>\n",
       "    <tr>\n",
       "      <th>1247</th>\n",
       "      <td>-4.47750</td>\n",
       "      <td>-13.030300</td>\n",
       "      <td>17.083400</td>\n",
       "      <td>-3.034500</td>\n",
       "    </tr>\n",
       "    <tr>\n",
       "      <th>1041</th>\n",
       "      <td>0.27331</td>\n",
       "      <td>4.877300</td>\n",
       "      <td>-4.919400</td>\n",
       "      <td>-5.819800</td>\n",
       "    </tr>\n",
       "    <tr>\n",
       "      <th>652</th>\n",
       "      <td>4.64390</td>\n",
       "      <td>-3.372900</td>\n",
       "      <td>2.597600</td>\n",
       "      <td>0.552570</td>\n",
       "    </tr>\n",
       "    <tr>\n",
       "      <th>284</th>\n",
       "      <td>-1.30000</td>\n",
       "      <td>10.267800</td>\n",
       "      <td>-2.953000</td>\n",
       "      <td>-5.863800</td>\n",
       "    </tr>\n",
       "    <tr>\n",
       "      <th>1170</th>\n",
       "      <td>-0.34890</td>\n",
       "      <td>3.192900</td>\n",
       "      <td>-3.405400</td>\n",
       "      <td>-3.183200</td>\n",
       "    </tr>\n",
       "    <tr>\n",
       "      <th>822</th>\n",
       "      <td>-3.07310</td>\n",
       "      <td>-0.531810</td>\n",
       "      <td>2.387700</td>\n",
       "      <td>0.776270</td>\n",
       "    </tr>\n",
       "    <tr>\n",
       "      <th>22</th>\n",
       "      <td>3.93620</td>\n",
       "      <td>10.162200</td>\n",
       "      <td>-3.823500</td>\n",
       "      <td>-4.017200</td>\n",
       "    </tr>\n",
       "    <tr>\n",
       "      <th>259</th>\n",
       "      <td>3.03290</td>\n",
       "      <td>2.294800</td>\n",
       "      <td>2.113500</td>\n",
       "      <td>0.350840</td>\n",
       "    </tr>\n",
       "    <tr>\n",
       "      <th>291</th>\n",
       "      <td>-2.21530</td>\n",
       "      <td>11.962500</td>\n",
       "      <td>0.078538</td>\n",
       "      <td>-7.785300</td>\n",
       "    </tr>\n",
       "    <tr>\n",
       "      <th>1107</th>\n",
       "      <td>1.21980</td>\n",
       "      <td>2.098200</td>\n",
       "      <td>-3.195400</td>\n",
       "      <td>0.128430</td>\n",
       "    </tr>\n",
       "    <tr>\n",
       "      <th>420</th>\n",
       "      <td>-2.48400</td>\n",
       "      <td>12.161100</td>\n",
       "      <td>2.820400</td>\n",
       "      <td>-3.741800</td>\n",
       "    </tr>\n",
       "    <tr>\n",
       "      <th>542</th>\n",
       "      <td>2.82320</td>\n",
       "      <td>10.851300</td>\n",
       "      <td>-3.146600</td>\n",
       "      <td>-3.978400</td>\n",
       "    </tr>\n",
       "    <tr>\n",
       "      <th>400</th>\n",
       "      <td>1.30490</td>\n",
       "      <td>-0.155210</td>\n",
       "      <td>6.491100</td>\n",
       "      <td>-0.753460</td>\n",
       "    </tr>\n",
       "    <tr>\n",
       "      <th>790</th>\n",
       "      <td>1.16440</td>\n",
       "      <td>3.809500</td>\n",
       "      <td>-4.940800</td>\n",
       "      <td>-4.090900</td>\n",
       "    </tr>\n",
       "    <tr>\n",
       "      <th>224</th>\n",
       "      <td>-0.36038</td>\n",
       "      <td>4.115800</td>\n",
       "      <td>3.114300</td>\n",
       "      <td>-0.371990</td>\n",
       "    </tr>\n",
       "    <tr>\n",
       "      <th>55</th>\n",
       "      <td>4.82650</td>\n",
       "      <td>0.802870</td>\n",
       "      <td>1.637100</td>\n",
       "      <td>1.187500</td>\n",
       "    </tr>\n",
       "    <tr>\n",
       "      <th>548</th>\n",
       "      <td>1.85330</td>\n",
       "      <td>6.145800</td>\n",
       "      <td>1.017600</td>\n",
       "      <td>-2.040100</td>\n",
       "    </tr>\n",
       "    <tr>\n",
       "      <th>938</th>\n",
       "      <td>-4.37730</td>\n",
       "      <td>-5.516700</td>\n",
       "      <td>10.939000</td>\n",
       "      <td>-0.408200</td>\n",
       "    </tr>\n",
       "    <tr>\n",
       "      <th>...</th>\n",
       "      <td>...</td>\n",
       "      <td>...</td>\n",
       "      <td>...</td>\n",
       "      <td>...</td>\n",
       "    </tr>\n",
       "    <tr>\n",
       "      <th>1371</th>\n",
       "      <td>-2.54190</td>\n",
       "      <td>-0.658040</td>\n",
       "      <td>2.684200</td>\n",
       "      <td>1.195200</td>\n",
       "    </tr>\n",
       "    <tr>\n",
       "      <th>81</th>\n",
       "      <td>4.46820</td>\n",
       "      <td>2.290700</td>\n",
       "      <td>0.957660</td>\n",
       "      <td>0.830580</td>\n",
       "    </tr>\n",
       "    <tr>\n",
       "      <th>198</th>\n",
       "      <td>4.02150</td>\n",
       "      <td>-2.191400</td>\n",
       "      <td>2.464800</td>\n",
       "      <td>1.140900</td>\n",
       "    </tr>\n",
       "    <tr>\n",
       "      <th>1284</th>\n",
       "      <td>1.20800</td>\n",
       "      <td>4.074400</td>\n",
       "      <td>-4.763500</td>\n",
       "      <td>-2.612900</td>\n",
       "    </tr>\n",
       "    <tr>\n",
       "      <th>1228</th>\n",
       "      <td>-1.34140</td>\n",
       "      <td>-1.916200</td>\n",
       "      <td>-0.155380</td>\n",
       "      <td>-0.119840</td>\n",
       "    </tr>\n",
       "    <tr>\n",
       "      <th>963</th>\n",
       "      <td>-3.38630</td>\n",
       "      <td>-12.988900</td>\n",
       "      <td>13.054500</td>\n",
       "      <td>-2.720200</td>\n",
       "    </tr>\n",
       "    <tr>\n",
       "      <th>165</th>\n",
       "      <td>4.19270</td>\n",
       "      <td>-3.267400</td>\n",
       "      <td>2.583900</td>\n",
       "      <td>0.217660</td>\n",
       "    </tr>\n",
       "    <tr>\n",
       "      <th>646</th>\n",
       "      <td>1.16200</td>\n",
       "      <td>10.292600</td>\n",
       "      <td>-1.282100</td>\n",
       "      <td>-4.039200</td>\n",
       "    </tr>\n",
       "    <tr>\n",
       "      <th>30</th>\n",
       "      <td>-0.24811</td>\n",
       "      <td>-0.177970</td>\n",
       "      <td>4.906800</td>\n",
       "      <td>0.154290</td>\n",
       "    </tr>\n",
       "    <tr>\n",
       "      <th>954</th>\n",
       "      <td>-1.02920</td>\n",
       "      <td>-6.387900</td>\n",
       "      <td>5.525500</td>\n",
       "      <td>0.799550</td>\n",
       "    </tr>\n",
       "    <tr>\n",
       "      <th>222</th>\n",
       "      <td>1.09870</td>\n",
       "      <td>0.639400</td>\n",
       "      <td>5.989000</td>\n",
       "      <td>-0.582770</td>\n",
       "    </tr>\n",
       "    <tr>\n",
       "      <th>172</th>\n",
       "      <td>-1.69520</td>\n",
       "      <td>1.065700</td>\n",
       "      <td>8.829400</td>\n",
       "      <td>0.949550</td>\n",
       "    </tr>\n",
       "    <tr>\n",
       "      <th>642</th>\n",
       "      <td>5.13210</td>\n",
       "      <td>-0.031048</td>\n",
       "      <td>0.326160</td>\n",
       "      <td>1.115100</td>\n",
       "    </tr>\n",
       "    <tr>\n",
       "      <th>1351</th>\n",
       "      <td>1.31830</td>\n",
       "      <td>1.901700</td>\n",
       "      <td>-3.311100</td>\n",
       "      <td>0.065071</td>\n",
       "    </tr>\n",
       "    <tr>\n",
       "      <th>1314</th>\n",
       "      <td>-3.50600</td>\n",
       "      <td>-12.566700</td>\n",
       "      <td>15.160600</td>\n",
       "      <td>-0.752160</td>\n",
       "    </tr>\n",
       "    <tr>\n",
       "      <th>416</th>\n",
       "      <td>4.34830</td>\n",
       "      <td>11.107900</td>\n",
       "      <td>-4.085700</td>\n",
       "      <td>-4.253900</td>\n",
       "    </tr>\n",
       "    <tr>\n",
       "      <th>1287</th>\n",
       "      <td>-3.99330</td>\n",
       "      <td>2.621800</td>\n",
       "      <td>0.628630</td>\n",
       "      <td>-1.159500</td>\n",
       "    </tr>\n",
       "    <tr>\n",
       "      <th>66</th>\n",
       "      <td>4.60540</td>\n",
       "      <td>-4.076500</td>\n",
       "      <td>2.758700</td>\n",
       "      <td>0.319810</td>\n",
       "    </tr>\n",
       "    <tr>\n",
       "      <th>118</th>\n",
       "      <td>2.89690</td>\n",
       "      <td>0.707680</td>\n",
       "      <td>2.290000</td>\n",
       "      <td>1.866300</td>\n",
       "    </tr>\n",
       "    <tr>\n",
       "      <th>1023</th>\n",
       "      <td>-1.77130</td>\n",
       "      <td>-10.766500</td>\n",
       "      <td>10.218400</td>\n",
       "      <td>-1.004300</td>\n",
       "    </tr>\n",
       "    <tr>\n",
       "      <th>1333</th>\n",
       "      <td>-2.86190</td>\n",
       "      <td>4.519300</td>\n",
       "      <td>-0.581230</td>\n",
       "      <td>-4.262900</td>\n",
       "    </tr>\n",
       "    <tr>\n",
       "      <th>928</th>\n",
       "      <td>-6.15360</td>\n",
       "      <td>7.929500</td>\n",
       "      <td>0.616630</td>\n",
       "      <td>-3.264600</td>\n",
       "    </tr>\n",
       "    <tr>\n",
       "      <th>956</th>\n",
       "      <td>-1.07440</td>\n",
       "      <td>-6.311300</td>\n",
       "      <td>5.355000</td>\n",
       "      <td>0.804720</td>\n",
       "    </tr>\n",
       "    <tr>\n",
       "      <th>293</th>\n",
       "      <td>1.93400</td>\n",
       "      <td>-0.000009</td>\n",
       "      <td>4.816000</td>\n",
       "      <td>-0.339670</td>\n",
       "    </tr>\n",
       "    <tr>\n",
       "      <th>888</th>\n",
       "      <td>-2.57010</td>\n",
       "      <td>-6.845200</td>\n",
       "      <td>8.999900</td>\n",
       "      <td>2.135300</td>\n",
       "    </tr>\n",
       "    <tr>\n",
       "      <th>465</th>\n",
       "      <td>-2.69890</td>\n",
       "      <td>12.198400</td>\n",
       "      <td>0.676610</td>\n",
       "      <td>-8.548200</td>\n",
       "    </tr>\n",
       "    <tr>\n",
       "      <th>82</th>\n",
       "      <td>5.01850</td>\n",
       "      <td>8.597800</td>\n",
       "      <td>-2.937500</td>\n",
       "      <td>-1.281000</td>\n",
       "    </tr>\n",
       "    <tr>\n",
       "      <th>152</th>\n",
       "      <td>5.06910</td>\n",
       "      <td>0.213130</td>\n",
       "      <td>0.202780</td>\n",
       "      <td>1.209500</td>\n",
       "    </tr>\n",
       "    <tr>\n",
       "      <th>270</th>\n",
       "      <td>3.84170</td>\n",
       "      <td>10.021500</td>\n",
       "      <td>-4.269900</td>\n",
       "      <td>-4.915900</td>\n",
       "    </tr>\n",
       "    <tr>\n",
       "      <th>961</th>\n",
       "      <td>-1.18590</td>\n",
       "      <td>-1.251900</td>\n",
       "      <td>2.263500</td>\n",
       "      <td>0.772390</td>\n",
       "    </tr>\n",
       "  </tbody>\n",
       "</table>\n",
       "<p>1097 rows × 4 columns</p>\n",
       "</div>"
      ],
      "text/plain": [
       "      Variance   Skewness   Curtosis   Entropy\n",
       "783    0.47368   3.360500  -4.506400 -4.043100\n",
       "714    2.55590   3.360500   2.032100  0.268090\n",
       "909   -1.73220  -9.282800   7.719000 -1.716800\n",
       "833   -2.82670  -9.040700   9.069400 -0.982330\n",
       "1088   0.64376   3.764000  -4.473800 -4.048300\n",
       "625    4.09480  -2.967400   2.368900  0.754290\n",
       "164    4.88510   1.599500  -0.000291  1.640100\n",
       "215    6.09190   2.967300  -1.326700  1.455100\n",
       "750    4.04220  -4.391000   4.746600  1.137000\n",
       "519    3.46690   6.870000  -1.056800 -0.731470\n",
       "1263  -0.87834   3.257000  -3.677800 -3.294400\n",
       "33    -0.96511   9.411100   1.730500 -4.862900\n",
       "1247  -4.47750 -13.030300  17.083400 -3.034500\n",
       "1041   0.27331   4.877300  -4.919400 -5.819800\n",
       "652    4.64390  -3.372900   2.597600  0.552570\n",
       "284   -1.30000  10.267800  -2.953000 -5.863800\n",
       "1170  -0.34890   3.192900  -3.405400 -3.183200\n",
       "822   -3.07310  -0.531810   2.387700  0.776270\n",
       "22     3.93620  10.162200  -3.823500 -4.017200\n",
       "259    3.03290   2.294800   2.113500  0.350840\n",
       "291   -2.21530  11.962500   0.078538 -7.785300\n",
       "1107   1.21980   2.098200  -3.195400  0.128430\n",
       "420   -2.48400  12.161100   2.820400 -3.741800\n",
       "542    2.82320  10.851300  -3.146600 -3.978400\n",
       "400    1.30490  -0.155210   6.491100 -0.753460\n",
       "790    1.16440   3.809500  -4.940800 -4.090900\n",
       "224   -0.36038   4.115800   3.114300 -0.371990\n",
       "55     4.82650   0.802870   1.637100  1.187500\n",
       "548    1.85330   6.145800   1.017600 -2.040100\n",
       "938   -4.37730  -5.516700  10.939000 -0.408200\n",
       "...        ...        ...        ...       ...\n",
       "1371  -2.54190  -0.658040   2.684200  1.195200\n",
       "81     4.46820   2.290700   0.957660  0.830580\n",
       "198    4.02150  -2.191400   2.464800  1.140900\n",
       "1284   1.20800   4.074400  -4.763500 -2.612900\n",
       "1228  -1.34140  -1.916200  -0.155380 -0.119840\n",
       "963   -3.38630 -12.988900  13.054500 -2.720200\n",
       "165    4.19270  -3.267400   2.583900  0.217660\n",
       "646    1.16200  10.292600  -1.282100 -4.039200\n",
       "30    -0.24811  -0.177970   4.906800  0.154290\n",
       "954   -1.02920  -6.387900   5.525500  0.799550\n",
       "222    1.09870   0.639400   5.989000 -0.582770\n",
       "172   -1.69520   1.065700   8.829400  0.949550\n",
       "642    5.13210  -0.031048   0.326160  1.115100\n",
       "1351   1.31830   1.901700  -3.311100  0.065071\n",
       "1314  -3.50600 -12.566700  15.160600 -0.752160\n",
       "416    4.34830  11.107900  -4.085700 -4.253900\n",
       "1287  -3.99330   2.621800   0.628630 -1.159500\n",
       "66     4.60540  -4.076500   2.758700  0.319810\n",
       "118    2.89690   0.707680   2.290000  1.866300\n",
       "1023  -1.77130 -10.766500  10.218400 -1.004300\n",
       "1333  -2.86190   4.519300  -0.581230 -4.262900\n",
       "928   -6.15360   7.929500   0.616630 -3.264600\n",
       "956   -1.07440  -6.311300   5.355000  0.804720\n",
       "293    1.93400  -0.000009   4.816000 -0.339670\n",
       "888   -2.57010  -6.845200   8.999900  2.135300\n",
       "465   -2.69890  12.198400   0.676610 -8.548200\n",
       "82     5.01850   8.597800  -2.937500 -1.281000\n",
       "152    5.06910   0.213130   0.202780  1.209500\n",
       "270    3.84170  10.021500  -4.269900 -4.915900\n",
       "961   -1.18590  -1.251900   2.263500  0.772390\n",
       "\n",
       "[1097 rows x 4 columns]"
      ]
     },
     "execution_count": 27,
     "metadata": {},
     "output_type": "execute_result"
    }
   ],
   "source": [
    "X_train"
   ]
  },
  {
   "cell_type": "code",
   "execution_count": 28,
   "metadata": {},
   "outputs": [],
   "source": [
    "# bỏ cột 'Entropy', chỉ chọn 3 cột còn lại\n",
    "X_train_selected = X_train.drop('Entropy', axis = 1)\n",
    "X_test_selected = X_test.drop('Entropy', axis = 1)"
   ]
  },
  {
   "cell_type": "code",
   "execution_count": 29,
   "metadata": {
    "scrolled": true
   },
   "outputs": [
    {
     "data": {
      "text/html": [
       "<div>\n",
       "<style scoped>\n",
       "    .dataframe tbody tr th:only-of-type {\n",
       "        vertical-align: middle;\n",
       "    }\n",
       "\n",
       "    .dataframe tbody tr th {\n",
       "        vertical-align: top;\n",
       "    }\n",
       "\n",
       "    .dataframe thead th {\n",
       "        text-align: right;\n",
       "    }\n",
       "</style>\n",
       "<table border=\"1\" class=\"dataframe\">\n",
       "  <thead>\n",
       "    <tr style=\"text-align: right;\">\n",
       "      <th></th>\n",
       "      <th>Variance</th>\n",
       "      <th>Skewness</th>\n",
       "      <th>Curtosis</th>\n",
       "    </tr>\n",
       "  </thead>\n",
       "  <tbody>\n",
       "    <tr>\n",
       "      <th>783</th>\n",
       "      <td>0.47368</td>\n",
       "      <td>3.360500</td>\n",
       "      <td>-4.506400</td>\n",
       "    </tr>\n",
       "    <tr>\n",
       "      <th>714</th>\n",
       "      <td>2.55590</td>\n",
       "      <td>3.360500</td>\n",
       "      <td>2.032100</td>\n",
       "    </tr>\n",
       "    <tr>\n",
       "      <th>909</th>\n",
       "      <td>-1.73220</td>\n",
       "      <td>-9.282800</td>\n",
       "      <td>7.719000</td>\n",
       "    </tr>\n",
       "    <tr>\n",
       "      <th>833</th>\n",
       "      <td>-2.82670</td>\n",
       "      <td>-9.040700</td>\n",
       "      <td>9.069400</td>\n",
       "    </tr>\n",
       "    <tr>\n",
       "      <th>1088</th>\n",
       "      <td>0.64376</td>\n",
       "      <td>3.764000</td>\n",
       "      <td>-4.473800</td>\n",
       "    </tr>\n",
       "    <tr>\n",
       "      <th>625</th>\n",
       "      <td>4.09480</td>\n",
       "      <td>-2.967400</td>\n",
       "      <td>2.368900</td>\n",
       "    </tr>\n",
       "    <tr>\n",
       "      <th>164</th>\n",
       "      <td>4.88510</td>\n",
       "      <td>1.599500</td>\n",
       "      <td>-0.000291</td>\n",
       "    </tr>\n",
       "    <tr>\n",
       "      <th>215</th>\n",
       "      <td>6.09190</td>\n",
       "      <td>2.967300</td>\n",
       "      <td>-1.326700</td>\n",
       "    </tr>\n",
       "    <tr>\n",
       "      <th>750</th>\n",
       "      <td>4.04220</td>\n",
       "      <td>-4.391000</td>\n",
       "      <td>4.746600</td>\n",
       "    </tr>\n",
       "    <tr>\n",
       "      <th>519</th>\n",
       "      <td>3.46690</td>\n",
       "      <td>6.870000</td>\n",
       "      <td>-1.056800</td>\n",
       "    </tr>\n",
       "    <tr>\n",
       "      <th>1263</th>\n",
       "      <td>-0.87834</td>\n",
       "      <td>3.257000</td>\n",
       "      <td>-3.677800</td>\n",
       "    </tr>\n",
       "    <tr>\n",
       "      <th>33</th>\n",
       "      <td>-0.96511</td>\n",
       "      <td>9.411100</td>\n",
       "      <td>1.730500</td>\n",
       "    </tr>\n",
       "    <tr>\n",
       "      <th>1247</th>\n",
       "      <td>-4.47750</td>\n",
       "      <td>-13.030300</td>\n",
       "      <td>17.083400</td>\n",
       "    </tr>\n",
       "    <tr>\n",
       "      <th>1041</th>\n",
       "      <td>0.27331</td>\n",
       "      <td>4.877300</td>\n",
       "      <td>-4.919400</td>\n",
       "    </tr>\n",
       "    <tr>\n",
       "      <th>652</th>\n",
       "      <td>4.64390</td>\n",
       "      <td>-3.372900</td>\n",
       "      <td>2.597600</td>\n",
       "    </tr>\n",
       "    <tr>\n",
       "      <th>284</th>\n",
       "      <td>-1.30000</td>\n",
       "      <td>10.267800</td>\n",
       "      <td>-2.953000</td>\n",
       "    </tr>\n",
       "    <tr>\n",
       "      <th>1170</th>\n",
       "      <td>-0.34890</td>\n",
       "      <td>3.192900</td>\n",
       "      <td>-3.405400</td>\n",
       "    </tr>\n",
       "    <tr>\n",
       "      <th>822</th>\n",
       "      <td>-3.07310</td>\n",
       "      <td>-0.531810</td>\n",
       "      <td>2.387700</td>\n",
       "    </tr>\n",
       "    <tr>\n",
       "      <th>22</th>\n",
       "      <td>3.93620</td>\n",
       "      <td>10.162200</td>\n",
       "      <td>-3.823500</td>\n",
       "    </tr>\n",
       "    <tr>\n",
       "      <th>259</th>\n",
       "      <td>3.03290</td>\n",
       "      <td>2.294800</td>\n",
       "      <td>2.113500</td>\n",
       "    </tr>\n",
       "    <tr>\n",
       "      <th>291</th>\n",
       "      <td>-2.21530</td>\n",
       "      <td>11.962500</td>\n",
       "      <td>0.078538</td>\n",
       "    </tr>\n",
       "    <tr>\n",
       "      <th>1107</th>\n",
       "      <td>1.21980</td>\n",
       "      <td>2.098200</td>\n",
       "      <td>-3.195400</td>\n",
       "    </tr>\n",
       "    <tr>\n",
       "      <th>420</th>\n",
       "      <td>-2.48400</td>\n",
       "      <td>12.161100</td>\n",
       "      <td>2.820400</td>\n",
       "    </tr>\n",
       "    <tr>\n",
       "      <th>542</th>\n",
       "      <td>2.82320</td>\n",
       "      <td>10.851300</td>\n",
       "      <td>-3.146600</td>\n",
       "    </tr>\n",
       "    <tr>\n",
       "      <th>400</th>\n",
       "      <td>1.30490</td>\n",
       "      <td>-0.155210</td>\n",
       "      <td>6.491100</td>\n",
       "    </tr>\n",
       "    <tr>\n",
       "      <th>790</th>\n",
       "      <td>1.16440</td>\n",
       "      <td>3.809500</td>\n",
       "      <td>-4.940800</td>\n",
       "    </tr>\n",
       "    <tr>\n",
       "      <th>224</th>\n",
       "      <td>-0.36038</td>\n",
       "      <td>4.115800</td>\n",
       "      <td>3.114300</td>\n",
       "    </tr>\n",
       "    <tr>\n",
       "      <th>55</th>\n",
       "      <td>4.82650</td>\n",
       "      <td>0.802870</td>\n",
       "      <td>1.637100</td>\n",
       "    </tr>\n",
       "    <tr>\n",
       "      <th>548</th>\n",
       "      <td>1.85330</td>\n",
       "      <td>6.145800</td>\n",
       "      <td>1.017600</td>\n",
       "    </tr>\n",
       "    <tr>\n",
       "      <th>938</th>\n",
       "      <td>-4.37730</td>\n",
       "      <td>-5.516700</td>\n",
       "      <td>10.939000</td>\n",
       "    </tr>\n",
       "    <tr>\n",
       "      <th>...</th>\n",
       "      <td>...</td>\n",
       "      <td>...</td>\n",
       "      <td>...</td>\n",
       "    </tr>\n",
       "    <tr>\n",
       "      <th>1371</th>\n",
       "      <td>-2.54190</td>\n",
       "      <td>-0.658040</td>\n",
       "      <td>2.684200</td>\n",
       "    </tr>\n",
       "    <tr>\n",
       "      <th>81</th>\n",
       "      <td>4.46820</td>\n",
       "      <td>2.290700</td>\n",
       "      <td>0.957660</td>\n",
       "    </tr>\n",
       "    <tr>\n",
       "      <th>198</th>\n",
       "      <td>4.02150</td>\n",
       "      <td>-2.191400</td>\n",
       "      <td>2.464800</td>\n",
       "    </tr>\n",
       "    <tr>\n",
       "      <th>1284</th>\n",
       "      <td>1.20800</td>\n",
       "      <td>4.074400</td>\n",
       "      <td>-4.763500</td>\n",
       "    </tr>\n",
       "    <tr>\n",
       "      <th>1228</th>\n",
       "      <td>-1.34140</td>\n",
       "      <td>-1.916200</td>\n",
       "      <td>-0.155380</td>\n",
       "    </tr>\n",
       "    <tr>\n",
       "      <th>963</th>\n",
       "      <td>-3.38630</td>\n",
       "      <td>-12.988900</td>\n",
       "      <td>13.054500</td>\n",
       "    </tr>\n",
       "    <tr>\n",
       "      <th>165</th>\n",
       "      <td>4.19270</td>\n",
       "      <td>-3.267400</td>\n",
       "      <td>2.583900</td>\n",
       "    </tr>\n",
       "    <tr>\n",
       "      <th>646</th>\n",
       "      <td>1.16200</td>\n",
       "      <td>10.292600</td>\n",
       "      <td>-1.282100</td>\n",
       "    </tr>\n",
       "    <tr>\n",
       "      <th>30</th>\n",
       "      <td>-0.24811</td>\n",
       "      <td>-0.177970</td>\n",
       "      <td>4.906800</td>\n",
       "    </tr>\n",
       "    <tr>\n",
       "      <th>954</th>\n",
       "      <td>-1.02920</td>\n",
       "      <td>-6.387900</td>\n",
       "      <td>5.525500</td>\n",
       "    </tr>\n",
       "    <tr>\n",
       "      <th>222</th>\n",
       "      <td>1.09870</td>\n",
       "      <td>0.639400</td>\n",
       "      <td>5.989000</td>\n",
       "    </tr>\n",
       "    <tr>\n",
       "      <th>172</th>\n",
       "      <td>-1.69520</td>\n",
       "      <td>1.065700</td>\n",
       "      <td>8.829400</td>\n",
       "    </tr>\n",
       "    <tr>\n",
       "      <th>642</th>\n",
       "      <td>5.13210</td>\n",
       "      <td>-0.031048</td>\n",
       "      <td>0.326160</td>\n",
       "    </tr>\n",
       "    <tr>\n",
       "      <th>1351</th>\n",
       "      <td>1.31830</td>\n",
       "      <td>1.901700</td>\n",
       "      <td>-3.311100</td>\n",
       "    </tr>\n",
       "    <tr>\n",
       "      <th>1314</th>\n",
       "      <td>-3.50600</td>\n",
       "      <td>-12.566700</td>\n",
       "      <td>15.160600</td>\n",
       "    </tr>\n",
       "    <tr>\n",
       "      <th>416</th>\n",
       "      <td>4.34830</td>\n",
       "      <td>11.107900</td>\n",
       "      <td>-4.085700</td>\n",
       "    </tr>\n",
       "    <tr>\n",
       "      <th>1287</th>\n",
       "      <td>-3.99330</td>\n",
       "      <td>2.621800</td>\n",
       "      <td>0.628630</td>\n",
       "    </tr>\n",
       "    <tr>\n",
       "      <th>66</th>\n",
       "      <td>4.60540</td>\n",
       "      <td>-4.076500</td>\n",
       "      <td>2.758700</td>\n",
       "    </tr>\n",
       "    <tr>\n",
       "      <th>118</th>\n",
       "      <td>2.89690</td>\n",
       "      <td>0.707680</td>\n",
       "      <td>2.290000</td>\n",
       "    </tr>\n",
       "    <tr>\n",
       "      <th>1023</th>\n",
       "      <td>-1.77130</td>\n",
       "      <td>-10.766500</td>\n",
       "      <td>10.218400</td>\n",
       "    </tr>\n",
       "    <tr>\n",
       "      <th>1333</th>\n",
       "      <td>-2.86190</td>\n",
       "      <td>4.519300</td>\n",
       "      <td>-0.581230</td>\n",
       "    </tr>\n",
       "    <tr>\n",
       "      <th>928</th>\n",
       "      <td>-6.15360</td>\n",
       "      <td>7.929500</td>\n",
       "      <td>0.616630</td>\n",
       "    </tr>\n",
       "    <tr>\n",
       "      <th>956</th>\n",
       "      <td>-1.07440</td>\n",
       "      <td>-6.311300</td>\n",
       "      <td>5.355000</td>\n",
       "    </tr>\n",
       "    <tr>\n",
       "      <th>293</th>\n",
       "      <td>1.93400</td>\n",
       "      <td>-0.000009</td>\n",
       "      <td>4.816000</td>\n",
       "    </tr>\n",
       "    <tr>\n",
       "      <th>888</th>\n",
       "      <td>-2.57010</td>\n",
       "      <td>-6.845200</td>\n",
       "      <td>8.999900</td>\n",
       "    </tr>\n",
       "    <tr>\n",
       "      <th>465</th>\n",
       "      <td>-2.69890</td>\n",
       "      <td>12.198400</td>\n",
       "      <td>0.676610</td>\n",
       "    </tr>\n",
       "    <tr>\n",
       "      <th>82</th>\n",
       "      <td>5.01850</td>\n",
       "      <td>8.597800</td>\n",
       "      <td>-2.937500</td>\n",
       "    </tr>\n",
       "    <tr>\n",
       "      <th>152</th>\n",
       "      <td>5.06910</td>\n",
       "      <td>0.213130</td>\n",
       "      <td>0.202780</td>\n",
       "    </tr>\n",
       "    <tr>\n",
       "      <th>270</th>\n",
       "      <td>3.84170</td>\n",
       "      <td>10.021500</td>\n",
       "      <td>-4.269900</td>\n",
       "    </tr>\n",
       "    <tr>\n",
       "      <th>961</th>\n",
       "      <td>-1.18590</td>\n",
       "      <td>-1.251900</td>\n",
       "      <td>2.263500</td>\n",
       "    </tr>\n",
       "  </tbody>\n",
       "</table>\n",
       "<p>1097 rows × 3 columns</p>\n",
       "</div>"
      ],
      "text/plain": [
       "      Variance   Skewness   Curtosis\n",
       "783    0.47368   3.360500  -4.506400\n",
       "714    2.55590   3.360500   2.032100\n",
       "909   -1.73220  -9.282800   7.719000\n",
       "833   -2.82670  -9.040700   9.069400\n",
       "1088   0.64376   3.764000  -4.473800\n",
       "625    4.09480  -2.967400   2.368900\n",
       "164    4.88510   1.599500  -0.000291\n",
       "215    6.09190   2.967300  -1.326700\n",
       "750    4.04220  -4.391000   4.746600\n",
       "519    3.46690   6.870000  -1.056800\n",
       "1263  -0.87834   3.257000  -3.677800\n",
       "33    -0.96511   9.411100   1.730500\n",
       "1247  -4.47750 -13.030300  17.083400\n",
       "1041   0.27331   4.877300  -4.919400\n",
       "652    4.64390  -3.372900   2.597600\n",
       "284   -1.30000  10.267800  -2.953000\n",
       "1170  -0.34890   3.192900  -3.405400\n",
       "822   -3.07310  -0.531810   2.387700\n",
       "22     3.93620  10.162200  -3.823500\n",
       "259    3.03290   2.294800   2.113500\n",
       "291   -2.21530  11.962500   0.078538\n",
       "1107   1.21980   2.098200  -3.195400\n",
       "420   -2.48400  12.161100   2.820400\n",
       "542    2.82320  10.851300  -3.146600\n",
       "400    1.30490  -0.155210   6.491100\n",
       "790    1.16440   3.809500  -4.940800\n",
       "224   -0.36038   4.115800   3.114300\n",
       "55     4.82650   0.802870   1.637100\n",
       "548    1.85330   6.145800   1.017600\n",
       "938   -4.37730  -5.516700  10.939000\n",
       "...        ...        ...        ...\n",
       "1371  -2.54190  -0.658040   2.684200\n",
       "81     4.46820   2.290700   0.957660\n",
       "198    4.02150  -2.191400   2.464800\n",
       "1284   1.20800   4.074400  -4.763500\n",
       "1228  -1.34140  -1.916200  -0.155380\n",
       "963   -3.38630 -12.988900  13.054500\n",
       "165    4.19270  -3.267400   2.583900\n",
       "646    1.16200  10.292600  -1.282100\n",
       "30    -0.24811  -0.177970   4.906800\n",
       "954   -1.02920  -6.387900   5.525500\n",
       "222    1.09870   0.639400   5.989000\n",
       "172   -1.69520   1.065700   8.829400\n",
       "642    5.13210  -0.031048   0.326160\n",
       "1351   1.31830   1.901700  -3.311100\n",
       "1314  -3.50600 -12.566700  15.160600\n",
       "416    4.34830  11.107900  -4.085700\n",
       "1287  -3.99330   2.621800   0.628630\n",
       "66     4.60540  -4.076500   2.758700\n",
       "118    2.89690   0.707680   2.290000\n",
       "1023  -1.77130 -10.766500  10.218400\n",
       "1333  -2.86190   4.519300  -0.581230\n",
       "928   -6.15360   7.929500   0.616630\n",
       "956   -1.07440  -6.311300   5.355000\n",
       "293    1.93400  -0.000009   4.816000\n",
       "888   -2.57010  -6.845200   8.999900\n",
       "465   -2.69890  12.198400   0.676610\n",
       "82     5.01850   8.597800  -2.937500\n",
       "152    5.06910   0.213130   0.202780\n",
       "270    3.84170  10.021500  -4.269900\n",
       "961   -1.18590  -1.251900   2.263500\n",
       "\n",
       "[1097 rows x 3 columns]"
      ]
     },
     "execution_count": 29,
     "metadata": {},
     "output_type": "execute_result"
    }
   ],
   "source": [
    "X_train_selected"
   ]
  },
  {
   "cell_type": "code",
   "execution_count": 30,
   "metadata": {
    "scrolled": true
   },
   "outputs": [
    {
     "data": {
      "text/plain": [
       "RandomForestClassifier(bootstrap=True, class_weight=None, criterion='gini',\n",
       "            max_depth=None, max_features='auto', max_leaf_nodes=None,\n",
       "            min_impurity_decrease=0.0, min_impurity_split=None,\n",
       "            min_samples_leaf=1, min_samples_split=2,\n",
       "            min_weight_fraction_leaf=0.0, n_estimators=100, n_jobs=None,\n",
       "            oob_score=False, random_state=0, verbose=0, warm_start=False)"
      ]
     },
     "execution_count": 30,
     "metadata": {},
     "output_type": "execute_result"
    }
   ],
   "source": [
    "# Xây dựng classifer dựa trên X_train_selected (chỉ có 3 features)\n",
    "clf2 = RandomForestClassifier(n_estimators=100, random_state=0)\n",
    "clf2.fit(X_train_selected, y_train)"
   ]
  },
  {
   "cell_type": "markdown",
   "metadata": {
    "colab_type": "text",
    "id": "AF28eWu130Nu"
   },
   "source": [
    "### Model Evaluation"
   ]
  },
  {
   "cell_type": "code",
   "execution_count": 31,
   "metadata": {
    "colab": {
     "autoexec": {
      "startup": false,
      "wait_interval": 0
     },
     "base_uri": "https://localhost:8080/",
     "height": 34
    },
    "colab_type": "code",
    "executionInfo": {
     "elapsed": 728,
     "status": "ok",
     "timestamp": 1526177006863,
     "user": {
      "displayName": "THUAN LE DINH",
      "photoUrl": "https://lh3.googleusercontent.com/a/default-user=s128",
      "userId": "112382990335944671707"
     },
     "user_tz": -420
    },
    "id": "FKR0GgR74QdG",
    "outputId": "cb539dda-d449-4c4f-f13d-cc4111c64a3a",
    "scrolled": true
   },
   "outputs": [
    {
     "name": "stdout",
     "output_type": "stream",
     "text": [
      "Random Forest classifier accuracy score is 0.9963636363636363\n"
     ]
    }
   ],
   "source": [
    "# accuracy của model\n",
    "accuracy_score = clf2.score(X_test_selected, y_test)\n",
    "print(f\"Random Forest classifier accuracy score is {accuracy_score}\")"
   ]
  },
  {
   "cell_type": "markdown",
   "metadata": {},
   "source": [
    "Có thể thấy sau khi loại bỏ thuộc tính `Entropy`, độ chính xác của model vẫn không thay đổi nhiều. Điều này được giải thích là do thuộc tính `Entropy` không quan trọng, nên ta có thể loại bỏ nó khi xây dựng model."
   ]
  },
  {
   "cell_type": "code",
   "execution_count": null,
   "metadata": {},
   "outputs": [],
   "source": []
  }
 ],
 "metadata": {
  "colab": {
   "collapsed_sections": [],
   "default_view": {},
   "name": "kNN-DecisionTree-thuanle-v2.ipynb",
   "provenance": [],
   "version": "0.3.2",
   "views": {}
  },
  "kernelspec": {
   "display_name": "Python 3",
   "language": "python",
   "name": "python3"
  },
  "language_info": {
   "codemirror_mode": {
    "name": "ipython",
    "version": 3
   },
   "file_extension": ".py",
   "mimetype": "text/x-python",
   "name": "python",
   "nbconvert_exporter": "python",
   "pygments_lexer": "ipython3",
   "version": "3.6.6"
  }
 },
 "nbformat": 4,
 "nbformat_minor": 1
}

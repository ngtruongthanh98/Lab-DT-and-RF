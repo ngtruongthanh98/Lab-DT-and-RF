{
 "cells": [
  {
   "cell_type": "markdown",
   "metadata": {
    "colab_type": "text",
    "id": "gvKshvFzQorr"
   },
   "source": [
    "# Decision Tree trong Python"
   ]
  },
  {
   "cell_type": "markdown",
   "metadata": {
    "colab_type": "text",
    "id": "YeHd4gDaQ0_c"
   },
   "source": [
    "## Introduction"
   ]
  },
  {
   "cell_type": "markdown",
   "metadata": {
    "colab_type": "text",
    "id": "VxauYFNjYzWw"
   },
   "source": [
    "\n",
    "* Author: thuanle@hcmut.edu.vn\n",
    "\n",
    "* Content:\n",
    "  - Practice the DecisionTree classifier\n",
    "  - Learn more about split the dataset into train and test.\n",
    "  - Evaluation by Accuracy score\n",
    "* Major steps:\n",
    "  - Load data from CSV, split into trainning set and test set\n",
    "  - Buidling kNN model.\n",
    "  - Evaluating results\n",
    "  - Training DecisionTree classifier model\n",
    "  - Evaluating results\n",
    "  - Visualize models"
   ]
  },
  {
   "cell_type": "markdown",
   "metadata": {
    "colab_type": "text",
    "id": "iqHlfOFUVQAD"
   },
   "source": [
    "## Configuration"
   ]
  },
  {
   "cell_type": "code",
   "execution_count": 1,
   "metadata": {
    "colab": {
     "autoexec": {
      "startup": false,
      "wait_interval": 0
     }
    },
    "colab_type": "code",
    "id": "hFmx_vCrVEX3"
   },
   "outputs": [],
   "source": [
    "dataset_filename = \"bill_authentication.csv\""
   ]
  },
  {
   "cell_type": "markdown",
   "metadata": {
    "colab_type": "text",
    "id": "H89hX3QbQor2"
   },
   "source": [
    "## Grab the data\n",
    "\n",
    "Since our file is in CSV format, we will use panda's read_csv method to read our CSV data file. Execute the following script to do so:"
   ]
  },
  {
   "cell_type": "code",
   "execution_count": 2,
   "metadata": {
    "colab": {
     "autoexec": {
      "startup": false,
      "wait_interval": 0
     },
     "base_uri": "https://localhost:8080/",
     "height": 35
    },
    "colab_type": "code",
    "executionInfo": {
     "elapsed": 856,
     "status": "ok",
     "timestamp": 1526176337475,
     "user": {
      "displayName": "THUAN LE DINH",
      "photoUrl": "https://lh3.googleusercontent.com/a/default-user=s128",
      "userId": "112382990335944671707"
     },
     "user_tz": -420
    },
    "id": "t85tLpXzQor5",
    "outputId": "3f4f66e8-7ea5-404a-8444-213cfa815f76"
   },
   "outputs": [
    {
     "data": {
      "text/plain": [
       "(1372, 5)"
      ]
     },
     "execution_count": 2,
     "metadata": {},
     "output_type": "execute_result"
    }
   ],
   "source": [
    "import pandas as pd  \n",
    "dataset = pd.read_csv(dataset_filename)\n",
    "dataset.shape"
   ]
  },
  {
   "cell_type": "code",
   "execution_count": 3,
   "metadata": {
    "colab": {
     "autoexec": {
      "startup": false,
      "wait_interval": 0
     },
     "base_uri": "https://localhost:8080/",
     "height": 35
    },
    "colab_type": "code",
    "executionInfo": {
     "elapsed": 746,
     "status": "ok",
     "timestamp": 1526170243312,
     "user": {
      "displayName": "THUAN LE DINH",
      "photoUrl": "https://lh3.googleusercontent.com/a/default-user=s128",
      "userId": "112382990335944671707"
     },
     "user_tz": -420
    },
    "id": "A0dBLnZKQosF",
    "outputId": "fd93cd39-6f68-41e3-9c98-5d58711a857f"
   },
   "outputs": [
    {
     "data": {
      "text/plain": [
       "Index(['Variance', 'Skewness', 'Curtosis', 'Entropy', 'Class'], dtype='object')"
      ]
     },
     "execution_count": 3,
     "metadata": {},
     "output_type": "execute_result"
    }
   ],
   "source": [
    "# Overview about dataset\n",
    "dataset.keys()"
   ]
  },
  {
   "cell_type": "code",
   "execution_count": 4,
   "metadata": {
    "colab": {
     "autoexec": {
      "startup": false,
      "wait_interval": 0
     },
     "base_uri": "https://localhost:8080/",
     "height": 203
    },
    "colab_type": "code",
    "executionInfo": {
     "elapsed": 728,
     "status": "ok",
     "timestamp": 1526170247767,
     "user": {
      "displayName": "THUAN LE DINH",
      "photoUrl": "https://lh3.googleusercontent.com/a/default-user=s128",
      "userId": "112382990335944671707"
     },
     "user_tz": -420
    },
    "id": "6S5WHtRnQosJ",
    "outputId": "0b65f801-aa21-4b70-d562-9a3135148e2d"
   },
   "outputs": [
    {
     "data": {
      "text/html": [
       "<div>\n",
       "<style scoped>\n",
       "    .dataframe tbody tr th:only-of-type {\n",
       "        vertical-align: middle;\n",
       "    }\n",
       "\n",
       "    .dataframe tbody tr th {\n",
       "        vertical-align: top;\n",
       "    }\n",
       "\n",
       "    .dataframe thead th {\n",
       "        text-align: right;\n",
       "    }\n",
       "</style>\n",
       "<table border=\"1\" class=\"dataframe\">\n",
       "  <thead>\n",
       "    <tr style=\"text-align: right;\">\n",
       "      <th></th>\n",
       "      <th>Variance</th>\n",
       "      <th>Skewness</th>\n",
       "      <th>Curtosis</th>\n",
       "      <th>Entropy</th>\n",
       "      <th>Class</th>\n",
       "    </tr>\n",
       "  </thead>\n",
       "  <tbody>\n",
       "    <tr>\n",
       "      <th>0</th>\n",
       "      <td>3.62160</td>\n",
       "      <td>8.6661</td>\n",
       "      <td>-2.8073</td>\n",
       "      <td>-0.44699</td>\n",
       "      <td>0</td>\n",
       "    </tr>\n",
       "    <tr>\n",
       "      <th>1</th>\n",
       "      <td>4.54590</td>\n",
       "      <td>8.1674</td>\n",
       "      <td>-2.4586</td>\n",
       "      <td>-1.46210</td>\n",
       "      <td>0</td>\n",
       "    </tr>\n",
       "    <tr>\n",
       "      <th>2</th>\n",
       "      <td>3.86600</td>\n",
       "      <td>-2.6383</td>\n",
       "      <td>1.9242</td>\n",
       "      <td>0.10645</td>\n",
       "      <td>0</td>\n",
       "    </tr>\n",
       "    <tr>\n",
       "      <th>3</th>\n",
       "      <td>3.45660</td>\n",
       "      <td>9.5228</td>\n",
       "      <td>-4.0112</td>\n",
       "      <td>-3.59440</td>\n",
       "      <td>0</td>\n",
       "    </tr>\n",
       "    <tr>\n",
       "      <th>4</th>\n",
       "      <td>0.32924</td>\n",
       "      <td>-4.4552</td>\n",
       "      <td>4.5718</td>\n",
       "      <td>-0.98880</td>\n",
       "      <td>0</td>\n",
       "    </tr>\n",
       "  </tbody>\n",
       "</table>\n",
       "</div>"
      ],
      "text/plain": [
       "   Variance  Skewness  Curtosis  Entropy  Class\n",
       "0   3.62160    8.6661   -2.8073 -0.44699      0\n",
       "1   4.54590    8.1674   -2.4586 -1.46210      0\n",
       "2   3.86600   -2.6383    1.9242  0.10645      0\n",
       "3   3.45660    9.5228   -4.0112 -3.59440      0\n",
       "4   0.32924   -4.4552    4.5718 -0.98880      0"
      ]
     },
     "execution_count": 4,
     "metadata": {},
     "output_type": "execute_result"
    }
   ],
   "source": [
    "dataset.head()  "
   ]
  },
  {
   "cell_type": "markdown",
   "metadata": {
    "colab_type": "text",
    "id": "NTob9ldXZST2"
   },
   "source": [
    "## Prepare train data and test set"
   ]
  },
  {
   "cell_type": "markdown",
   "metadata": {
    "colab_type": "text",
    "id": "_SHtTv-AQosM"
   },
   "source": [
    "The label is describe in **Class** column. So that we devide the dataset into attributes and labels"
   ]
  },
  {
   "cell_type": "code",
   "execution_count": 5,
   "metadata": {
    "colab": {
     "autoexec": {
      "startup": false,
      "wait_interval": 0
     }
    },
    "colab_type": "code",
    "id": "IWlX_Ip1QosN"
   },
   "outputs": [],
   "source": [
    "X = dataset.drop('Class', axis=1)  \n",
    "y = dataset['Class']  "
   ]
  },
  {
   "cell_type": "markdown",
   "metadata": {
    "colab_type": "text",
    "id": "gg1L0AW-2ScC"
   },
   "source": [
    "Here the X variable contains all the columns from the dataset, except the **Class** column, which is the label.\n",
    "\n",
    "The y variable contains the values from the **Class** column. \n",
    "\n",
    "The X variable is our attribute set and y variable contains corresponding labels."
   ]
  },
  {
   "cell_type": "markdown",
   "metadata": {
    "colab_type": "text",
    "id": "7mAg-sUBQosS"
   },
   "source": [
    "### Dividing our data into training and test sets. "
   ]
  },
  {
   "cell_type": "markdown",
   "metadata": {
    "colab_type": "text",
    "id": "0Fp9RNwf2oon"
   },
   "source": [
    "So, we split the test into 2 sets: training set and testing set. We use to split up 20% of the data in to the test set and 80% for training."
   ]
  },
  {
   "cell_type": "code",
   "execution_count": 6,
   "metadata": {
    "colab": {
     "autoexec": {
      "startup": false,
      "wait_interval": 0
     },
     "base_uri": "https://localhost:8080/",
     "height": 51
    },
    "colab_type": "code",
    "executionInfo": {
     "elapsed": 939,
     "status": "ok",
     "timestamp": 1526171100970,
     "user": {
      "displayName": "THUAN LE DINH",
      "photoUrl": "https://lh3.googleusercontent.com/a/default-user=s128",
      "userId": "112382990335944671707"
     },
     "user_tz": -420
    },
    "id": "8fXzzhfHQosT",
    "outputId": "ca9631b9-160e-4b91-b342-b77fa643884a"
   },
   "outputs": [
    {
     "name": "stdout",
     "output_type": "stream",
     "text": [
      "(1097, 4) 1097\n",
      "(275, 4) (275,)\n"
     ]
    }
   ],
   "source": [
    "from sklearn.model_selection import train_test_split  \n",
    "X_train, X_test, y_train, y_test = train_test_split(X, y, test_size=0.20)\n",
    "print(X_train.shape, y_train.size)\n",
    "print(X_test.shape, y_test.shape)"
   ]
  },
  {
   "cell_type": "markdown",
   "metadata": {
    "colab_type": "text",
    "id": "RvkIhGKzQosZ"
   },
   "source": [
    "## Training with Decision Tree"
   ]
  },
  {
   "cell_type": "markdown",
   "metadata": {
    "colab_type": "text",
    "id": "Whzch7nq5Fdc"
   },
   "source": [
    "Now, let's build a **Decision Tree** model"
   ]
  },
  {
   "cell_type": "markdown",
   "metadata": {},
   "source": [
    "### a) criterion='gini'"
   ]
  },
  {
   "cell_type": "code",
   "execution_count": 7,
   "metadata": {
    "colab": {
     "autoexec": {
      "startup": false,
      "wait_interval": 0
     },
     "base_uri": "https://localhost:8080/",
     "height": 119
    },
    "colab_type": "code",
    "executionInfo": {
     "elapsed": 955,
     "status": "ok",
     "timestamp": 1526171252150,
     "user": {
      "displayName": "THUAN LE DINH",
      "photoUrl": "https://lh3.googleusercontent.com/a/default-user=s128",
      "userId": "112382990335944671707"
     },
     "user_tz": -420
    },
    "id": "A5VjKMNFQosZ",
    "outputId": "70d72118-5ffd-4ac1-b1a4-2e264484ef63"
   },
   "outputs": [
    {
     "data": {
      "text/plain": [
       "DecisionTreeClassifier(class_weight=None, criterion='gini', max_depth=None,\n",
       "            max_features=None, max_leaf_nodes=None,\n",
       "            min_impurity_decrease=0.0, min_impurity_split=None,\n",
       "            min_samples_leaf=1, min_samples_split=2,\n",
       "            min_weight_fraction_leaf=0.0, presort=False, random_state=None,\n",
       "            splitter='best')"
      ]
     },
     "execution_count": 7,
     "metadata": {},
     "output_type": "execute_result"
    }
   ],
   "source": [
    "from sklearn.tree import DecisionTreeClassifier  \n",
    "dt = DecisionTreeClassifier(criterion='gini')  \n",
    "dt.fit(X_train, y_train)  "
   ]
  },
  {
   "cell_type": "code",
   "execution_count": 8,
   "metadata": {
    "colab": {
     "autoexec": {
      "startup": false,
      "wait_interval": 0
     },
     "base_uri": "https://localhost:8080/",
     "height": 238
    },
    "colab_type": "code",
    "executionInfo": {
     "elapsed": 716,
     "status": "ok",
     "timestamp": 1526171510465,
     "user": {
      "displayName": "THUAN LE DINH",
      "photoUrl": "https://lh3.googleusercontent.com/a/default-user=s128",
      "userId": "112382990335944671707"
     },
     "user_tz": -420
    },
    "id": "577pssBYQose",
    "outputId": "69c6841d-656b-41c1-fd96-4fb3bb648061"
   },
   "outputs": [
    {
     "data": {
      "text/plain": [
       "array([1, 1, 0, 0, 0, 0, 0, 1, 1, 0, 0, 1, 1, 1, 0, 1, 0, 0, 1, 1, 1, 1,\n",
       "       0, 1, 0, 1, 1, 0, 0, 1, 0, 0, 0, 0, 0, 1, 0, 0, 0, 1, 0, 0, 1, 0,\n",
       "       1, 0, 1, 0, 1, 0, 1, 1, 1, 1, 1, 1, 0, 1, 1, 0, 0, 1, 1, 0, 0, 0,\n",
       "       1, 0, 0, 0, 0, 1, 1, 1, 0, 0, 0, 1, 0, 0, 0, 0, 0, 1, 1, 0, 0, 1,\n",
       "       0, 1, 1, 0, 1, 1, 1, 0, 0, 0, 0, 1, 0, 0, 0, 1, 0, 1, 0, 0, 1, 1,\n",
       "       0, 0, 1, 0, 1, 1, 1, 0, 0, 0, 0, 0, 1, 0, 1, 0, 1, 0, 0, 0, 0, 0,\n",
       "       1, 0, 1, 1, 0, 1, 0, 1, 0, 1, 0, 1, 1, 0, 0, 0, 0, 1, 0, 1, 1, 1,\n",
       "       1, 0, 0, 0, 1, 1, 0, 1, 0, 0, 0, 0, 1, 0, 0, 0, 0, 0, 0, 0, 1, 1,\n",
       "       1, 0, 0, 0, 0, 0, 1, 0, 1, 1, 1, 1, 0, 0, 0, 1, 0, 0, 1, 1, 1, 0,\n",
       "       0, 1, 1, 1, 1, 0, 1, 0, 0, 1, 0, 1, 0, 1, 0, 0, 1, 0, 1, 0, 0, 0,\n",
       "       0, 0, 0, 1, 1, 0, 0, 0, 1, 0, 0, 0, 1, 0, 0, 1, 0, 1, 1, 0, 1, 0,\n",
       "       0, 1, 0, 0, 1, 0, 1, 0, 1, 1, 0, 0, 1, 0, 1, 0, 1, 1, 1, 0, 1, 0,\n",
       "       0, 1, 0, 1, 0, 1, 0, 0, 1, 0, 1], dtype=int64)"
      ]
     },
     "execution_count": 8,
     "metadata": {},
     "output_type": "execute_result"
    }
   ],
   "source": [
    "y_pred_dt = dt.predict(X_test)  \n",
    "y_pred_dt"
   ]
  },
  {
   "cell_type": "markdown",
   "metadata": {
    "colab_type": "text",
    "id": "UusvjyEMQosl"
   },
   "source": [
    "##### Evaluating the Algorithm\n",
    "\n"
   ]
  },
  {
   "cell_type": "code",
   "execution_count": 9,
   "metadata": {
    "colab": {
     "autoexec": {
      "startup": false,
      "wait_interval": 0
     },
     "base_uri": "https://localhost:8080/",
     "height": 34
    },
    "colab_type": "code",
    "executionInfo": {
     "elapsed": 864,
     "status": "ok",
     "timestamp": 1526176927124,
     "user": {
      "displayName": "THUAN LE DINH",
      "photoUrl": "https://lh3.googleusercontent.com/a/default-user=s128",
      "userId": "112382990335944671707"
     },
     "user_tz": -420
    },
    "id": "ZrVWAiUDQosm",
    "outputId": "ec6dbafe-f43d-4e2c-b17b-663e2c69a1b5"
   },
   "outputs": [
    {
     "name": "stdout",
     "output_type": "stream",
     "text": [
      "Decision Tree classifier accuracy score is 0.9818181818181818\n"
     ]
    }
   ],
   "source": [
    "dt_score = dt.score(X_test, y_test)\n",
    "print(f\"Decision Tree classifier accuracy score is {dt_score}\")"
   ]
  },
  {
   "cell_type": "markdown",
   "metadata": {},
   "source": [
    "### b) criterion='entropy'"
   ]
  },
  {
   "cell_type": "code",
   "execution_count": 10,
   "metadata": {},
   "outputs": [
    {
     "data": {
      "text/plain": [
       "DecisionTreeClassifier(class_weight=None, criterion='entropy', max_depth=None,\n",
       "            max_features=None, max_leaf_nodes=None,\n",
       "            min_impurity_decrease=0.0, min_impurity_split=None,\n",
       "            min_samples_leaf=1, min_samples_split=2,\n",
       "            min_weight_fraction_leaf=0.0, presort=False, random_state=None,\n",
       "            splitter='best')"
      ]
     },
     "execution_count": 10,
     "metadata": {},
     "output_type": "execute_result"
    }
   ],
   "source": [
    "from sklearn.tree import DecisionTreeClassifier  \n",
    "dt2 = DecisionTreeClassifier(criterion='entropy')  \n",
    "dt2.fit(X_train, y_train)  "
   ]
  },
  {
   "cell_type": "code",
   "execution_count": 11,
   "metadata": {
    "scrolled": false
   },
   "outputs": [
    {
     "data": {
      "text/plain": [
       "array([1, 1, 0, 0, 0, 0, 0, 1, 1, 0, 0, 1, 1, 1, 0, 1, 0, 0, 1, 1, 1, 1,\n",
       "       0, 1, 0, 1, 1, 0, 0, 1, 0, 0, 0, 0, 0, 1, 0, 0, 0, 1, 0, 0, 1, 0,\n",
       "       1, 0, 1, 0, 1, 0, 1, 1, 1, 1, 1, 1, 0, 1, 1, 0, 0, 1, 1, 0, 0, 0,\n",
       "       1, 0, 0, 0, 0, 1, 1, 1, 0, 0, 0, 1, 0, 0, 0, 0, 0, 1, 1, 0, 0, 1,\n",
       "       0, 1, 1, 0, 1, 1, 1, 0, 1, 0, 0, 1, 0, 0, 0, 1, 0, 1, 0, 0, 0, 1,\n",
       "       0, 0, 1, 0, 1, 1, 1, 0, 0, 0, 0, 0, 1, 0, 1, 0, 1, 0, 0, 0, 0, 0,\n",
       "       1, 0, 1, 1, 0, 1, 0, 1, 0, 1, 0, 1, 1, 0, 0, 0, 0, 1, 0, 1, 1, 1,\n",
       "       1, 0, 0, 0, 1, 1, 0, 1, 0, 0, 0, 0, 1, 0, 0, 0, 0, 0, 0, 0, 1, 1,\n",
       "       1, 0, 0, 0, 0, 0, 1, 0, 1, 1, 1, 1, 0, 0, 0, 1, 0, 0, 1, 1, 1, 0,\n",
       "       1, 1, 1, 1, 1, 0, 1, 0, 0, 0, 0, 1, 0, 1, 0, 0, 1, 0, 1, 0, 0, 0,\n",
       "       0, 0, 0, 1, 1, 0, 0, 0, 1, 0, 0, 0, 1, 0, 0, 1, 0, 1, 1, 0, 1, 0,\n",
       "       0, 1, 0, 0, 1, 0, 1, 0, 1, 1, 0, 0, 1, 0, 0, 0, 1, 1, 1, 0, 1, 0,\n",
       "       0, 1, 0, 1, 0, 1, 0, 0, 1, 0, 1], dtype=int64)"
      ]
     },
     "execution_count": 11,
     "metadata": {},
     "output_type": "execute_result"
    }
   ],
   "source": [
    "y_pred_dt = dt2.predict(X_test)  \n",
    "y_pred_dt"
   ]
  },
  {
   "cell_type": "markdown",
   "metadata": {
    "colab_type": "text",
    "id": "UusvjyEMQosl"
   },
   "source": [
    "##### Evaluating the Algorithm\n",
    "\n"
   ]
  },
  {
   "cell_type": "code",
   "execution_count": 12,
   "metadata": {
    "colab": {
     "autoexec": {
      "startup": false,
      "wait_interval": 0
     },
     "base_uri": "https://localhost:8080/",
     "height": 34
    },
    "colab_type": "code",
    "executionInfo": {
     "elapsed": 864,
     "status": "ok",
     "timestamp": 1526176927124,
     "user": {
      "displayName": "THUAN LE DINH",
      "photoUrl": "https://lh3.googleusercontent.com/a/default-user=s128",
      "userId": "112382990335944671707"
     },
     "user_tz": -420
    },
    "id": "ZrVWAiUDQosm",
    "outputId": "ec6dbafe-f43d-4e2c-b17b-663e2c69a1b5"
   },
   "outputs": [
    {
     "name": "stdout",
     "output_type": "stream",
     "text": [
      "Decision Tree classifier accuracy score is 0.9818181818181818\n"
     ]
    }
   ],
   "source": [
    "dt_score = dt.score(X_test, y_test)\n",
    "print(f\"Decision Tree classifier accuracy score is {dt_score}\")"
   ]
  },
  {
   "cell_type": "markdown",
   "metadata": {
    "colab_type": "text",
    "id": "pSKS600B8a7r"
   },
   "source": [
    "## Extra section"
   ]
  },
  {
   "cell_type": "markdown",
   "metadata": {
    "colab_type": "text",
    "id": "VOR4z1m7Qoss"
   },
   "source": [
    "### Visualize decision tree"
   ]
  },
  {
   "cell_type": "markdown",
   "metadata": {
    "colab_type": "text",
    "id": "flCqCeIl8xm9"
   },
   "source": [
    "We can visualize the Decision Tree model using the [Graphviz](https://www.graphviz.org/) tool.\n",
    "\n",
    "Graphviz is an easy tool for drawing graph. For example: the code\n",
    "\n",
    "```\n",
    "digraph G {Hello->World}\n",
    "```\n",
    "\n",
    "will generate the following graph\n",
    "\n",
    "![digraph](https://graphviz.gitlab.io/_pages/Gallery/directed/hello.png)\n",
    "\n",
    "* More example https://www.graphviz.org/gallery/\n",
    "* You can play around at http://www.webgraphviz.com/ or https://dreampuf.github.io/GraphvizOnline/"
   ]
  },
  {
   "cell_type": "markdown",
   "metadata": {
    "colab_type": "text",
    "id": "mIG3R9Lk_5NS"
   },
   "source": [
    "So let's generate the graph."
   ]
  },
  {
   "cell_type": "code",
   "execution_count": 13,
   "metadata": {
    "colab": {
     "autoexec": {
      "startup": false,
      "wait_interval": 0
     },
     "base_uri": "https://localhost:8080/",
     "height": 1649
    },
    "colab_type": "code",
    "executionInfo": {
     "elapsed": 902,
     "status": "ok",
     "timestamp": 1526173043848,
     "user": {
      "displayName": "THUAN LE DINH",
      "photoUrl": "https://lh3.googleusercontent.com/a/default-user=s128",
      "userId": "112382990335944671707"
     },
     "user_tz": -420
    },
    "id": "YIZ49PfhQosu",
    "outputId": "4e3f31ca-6c01-4af4-fe05-3841a20bab4b"
   },
   "outputs": [
    {
     "name": "stdout",
     "output_type": "stream",
     "text": [
      "digraph Tree {\n",
      "node [shape=box] ;\n",
      "0 [label=\"X[0] <= 0.32\\ngini = 0.495\\nsamples = 1097\\nvalue = [604, 493]\"] ;\n",
      "1 [label=\"X[1] <= 7.565\\ngini = 0.307\\nsamples = 534\\nvalue = [101, 433]\"] ;\n",
      "0 -> 1 [labeldistance=2.5, labelangle=45, headlabel=\"True\"] ;\n",
      "2 [label=\"X[0] <= -0.459\\ngini = 0.136\\nsamples = 451\\nvalue = [33, 418]\"] ;\n",
      "1 -> 2 ;\n",
      "3 [label=\"X[2] <= 6.739\\ngini = 0.067\\nsamples = 377\\nvalue = [13, 364]\"] ;\n",
      "2 -> 3 ;\n",
      "4 [label=\"X[1] <= 7.293\\ngini = 0.007\\nsamples = 267\\nvalue = [1, 266]\"] ;\n",
      "3 -> 4 ;\n",
      "5 [label=\"gini = 0.0\\nsamples = 264\\nvalue = [0, 264]\"] ;\n",
      "4 -> 5 ;\n",
      "6 [label=\"X[0] <= -2.509\\ngini = 0.444\\nsamples = 3\\nvalue = [1, 2]\"] ;\n",
      "4 -> 6 ;\n",
      "7 [label=\"gini = 0.0\\nsamples = 2\\nvalue = [0, 2]\"] ;\n",
      "6 -> 7 ;\n",
      "8 [label=\"gini = 0.0\\nsamples = 1\\nvalue = [1, 0]\"] ;\n",
      "6 -> 8 ;\n",
      "9 [label=\"X[1] <= -4.8\\ngini = 0.194\\nsamples = 110\\nvalue = [12, 98]\"] ;\n",
      "3 -> 9 ;\n",
      "10 [label=\"gini = 0.0\\nsamples = 98\\nvalue = [0, 98]\"] ;\n",
      "9 -> 10 ;\n",
      "11 [label=\"gini = 0.0\\nsamples = 12\\nvalue = [12, 0]\"] ;\n",
      "9 -> 11 ;\n",
      "12 [label=\"X[2] <= 0.297\\ngini = 0.394\\nsamples = 74\\nvalue = [20, 54]\"] ;\n",
      "2 -> 12 ;\n",
      "13 [label=\"X[1] <= 5.632\\ngini = 0.113\\nsamples = 50\\nvalue = [3, 47]\"] ;\n",
      "12 -> 13 ;\n",
      "14 [label=\"gini = 0.0\\nsamples = 47\\nvalue = [0, 47]\"] ;\n",
      "13 -> 14 ;\n",
      "15 [label=\"gini = 0.0\\nsamples = 3\\nvalue = [3, 0]\"] ;\n",
      "13 -> 15 ;\n",
      "16 [label=\"X[3] <= 0.821\\ngini = 0.413\\nsamples = 24\\nvalue = [17, 7]\"] ;\n",
      "12 -> 16 ;\n",
      "17 [label=\"X[0] <= 0.096\\ngini = 0.255\\nsamples = 20\\nvalue = [17, 3]\"] ;\n",
      "16 -> 17 ;\n",
      "18 [label=\"X[3] <= 0.728\\ngini = 0.105\\nsamples = 18\\nvalue = [17, 1]\"] ;\n",
      "17 -> 18 ;\n",
      "19 [label=\"gini = 0.0\\nsamples = 16\\nvalue = [16, 0]\"] ;\n",
      "18 -> 19 ;\n",
      "20 [label=\"X[1] <= -1.393\\ngini = 0.5\\nsamples = 2\\nvalue = [1, 1]\"] ;\n",
      "18 -> 20 ;\n",
      "21 [label=\"gini = 0.0\\nsamples = 1\\nvalue = [1, 0]\"] ;\n",
      "20 -> 21 ;\n",
      "22 [label=\"gini = 0.0\\nsamples = 1\\nvalue = [0, 1]\"] ;\n",
      "20 -> 22 ;\n",
      "23 [label=\"gini = 0.0\\nsamples = 2\\nvalue = [0, 2]\"] ;\n",
      "17 -> 23 ;\n",
      "24 [label=\"gini = 0.0\\nsamples = 4\\nvalue = [0, 4]\"] ;\n",
      "16 -> 24 ;\n",
      "25 [label=\"X[0] <= -4.726\\ngini = 0.296\\nsamples = 83\\nvalue = [68, 15]\"] ;\n",
      "1 -> 25 ;\n",
      "26 [label=\"gini = 0.0\\nsamples = 15\\nvalue = [0, 15]\"] ;\n",
      "25 -> 26 ;\n",
      "27 [label=\"gini = 0.0\\nsamples = 68\\nvalue = [68, 0]\"] ;\n",
      "25 -> 27 ;\n",
      "28 [label=\"X[2] <= -4.386\\ngini = 0.19\\nsamples = 563\\nvalue = [503, 60]\"] ;\n",
      "0 -> 28 [labeldistance=2.5, labelangle=-45, headlabel=\"False\"] ;\n",
      "29 [label=\"X[1] <= 7.331\\ngini = 0.32\\nsamples = 30\\nvalue = [6, 24]\"] ;\n",
      "28 -> 29 ;\n",
      "30 [label=\"gini = 0.0\\nsamples = 24\\nvalue = [0, 24]\"] ;\n",
      "29 -> 30 ;\n",
      "31 [label=\"gini = 0.0\\nsamples = 6\\nvalue = [6, 0]\"] ;\n",
      "29 -> 31 ;\n",
      "32 [label=\"X[0] <= 1.592\\ngini = 0.126\\nsamples = 533\\nvalue = [497, 36]\"] ;\n",
      "28 -> 32 ;\n",
      "33 [label=\"X[2] <= -2.286\\ngini = 0.366\\nsamples = 137\\nvalue = [104, 33]\"] ;\n",
      "32 -> 33 ;\n",
      "34 [label=\"X[1] <= 5.667\\ngini = 0.255\\nsamples = 20\\nvalue = [3, 17]\"] ;\n",
      "33 -> 34 ;\n",
      "35 [label=\"gini = 0.0\\nsamples = 17\\nvalue = [0, 17]\"] ;\n",
      "34 -> 35 ;\n",
      "36 [label=\"gini = 0.0\\nsamples = 3\\nvalue = [3, 0]\"] ;\n",
      "34 -> 36 ;\n",
      "37 [label=\"X[3] <= 0.082\\ngini = 0.236\\nsamples = 117\\nvalue = [101, 16]\"] ;\n",
      "33 -> 37 ;\n",
      "38 [label=\"X[0] <= 0.451\\ngini = 0.023\\nsamples = 85\\nvalue = [84, 1]\"] ;\n",
      "37 -> 38 ;\n",
      "39 [label=\"X[0] <= 0.401\\ngini = 0.142\\nsamples = 13\\nvalue = [12, 1]\"] ;\n",
      "38 -> 39 ;\n",
      "40 [label=\"gini = 0.0\\nsamples = 12\\nvalue = [12, 0]\"] ;\n",
      "39 -> 40 ;\n",
      "41 [label=\"gini = 0.0\\nsamples = 1\\nvalue = [0, 1]\"] ;\n",
      "39 -> 41 ;\n",
      "42 [label=\"gini = 0.0\\nsamples = 72\\nvalue = [72, 0]\"] ;\n",
      "38 -> 42 ;\n",
      "43 [label=\"X[2] <= 1.853\\ngini = 0.498\\nsamples = 32\\nvalue = [17, 15]\"] ;\n",
      "37 -> 43 ;\n",
      "44 [label=\"X[1] <= 3.7\\ngini = 0.117\\nsamples = 16\\nvalue = [1, 15]\"] ;\n",
      "43 -> 44 ;\n",
      "45 [label=\"gini = 0.0\\nsamples = 15\\nvalue = [0, 15]\"] ;\n",
      "44 -> 45 ;\n",
      "46 [label=\"gini = 0.0\\nsamples = 1\\nvalue = [1, 0]\"] ;\n",
      "44 -> 46 ;\n",
      "47 [label=\"gini = 0.0\\nsamples = 16\\nvalue = [16, 0]\"] ;\n",
      "43 -> 47 ;\n",
      "48 [label=\"X[0] <= 2.037\\ngini = 0.015\\nsamples = 396\\nvalue = [393, 3]\"] ;\n",
      "32 -> 48 ;\n",
      "49 [label=\"X[2] <= -2.648\\ngini = 0.117\\nsamples = 48\\nvalue = [45, 3]\"] ;\n",
      "48 -> 49 ;\n",
      "50 [label=\"X[3] <= -1.796\\ngini = 0.375\\nsamples = 4\\nvalue = [1, 3]\"] ;\n",
      "49 -> 50 ;\n",
      "51 [label=\"gini = 0.0\\nsamples = 1\\nvalue = [1, 0]\"] ;\n",
      "50 -> 51 ;\n",
      "52 [label=\"gini = 0.0\\nsamples = 3\\nvalue = [0, 3]\"] ;\n",
      "50 -> 52 ;\n",
      "53 [label=\"gini = 0.0\\nsamples = 44\\nvalue = [44, 0]\"] ;\n",
      "49 -> 53 ;\n",
      "54 [label=\"gini = 0.0\\nsamples = 348\\nvalue = [348, 0]\"] ;\n",
      "48 -> 54 ;\n",
      "}\n"
     ]
    }
   ],
   "source": [
    "from sklearn.tree import export_graphviz\n",
    "dot_data = export_graphviz(dt, out_file=None)\n",
    "print(dot_data)"
   ]
  },
  {
   "cell_type": "markdown",
   "metadata": {
    "colab_type": "text",
    "id": "0X6_ggMHFJ0Z"
   },
   "source": [
    "Copy the code above, paste it to online graphviz service like http://viz-js.com/ and see the result."
   ]
  },
  {
   "cell_type": "markdown",
   "metadata": {
    "colab_type": "text",
    "id": "NnUDorsr8wjv"
   },
   "source": [
    "### Jypiter does it all"
   ]
  },
  {
   "cell_type": "markdown",
   "metadata": {
    "colab_type": "text",
    "id": "tZsrkGvwBBta"
   },
   "source": [
    "If we want to display the graph automatically inside Jupiter, we'll need\n",
    "* Install Graphviz binary\n",
    "* Call the Graphviz inside Jupiter and grab the result.\n",
    "\n",
    "**Note**: Google Colab does not let us install Graphviz binary, so that we cant make with work with Google Colab.\n"
   ]
  },
  {
   "cell_type": "code",
   "execution_count": 14,
   "metadata": {
    "colab": {
     "autoexec": {
      "startup": false,
      "wait_interval": 0
     },
     "base_uri": "https://localhost:8080/",
     "height": 85
    },
    "colab_type": "code",
    "executionInfo": {
     "elapsed": 2787,
     "status": "ok",
     "timestamp": 1526173433688,
     "user": {
      "displayName": "THUAN LE DINH",
      "photoUrl": "https://lh3.googleusercontent.com/a/default-user=s128",
      "userId": "112382990335944671707"
     },
     "user_tz": -420
    },
    "id": "ASScryziBlf8",
    "outputId": "3dd4dad7-1765-4108-cdc1-83396516c592"
   },
   "outputs": [
    {
     "name": "stdout",
     "output_type": "stream",
     "text": [
      "Requirement already satisfied: graphviz in c:\\users\\huu vu\\downloads\\programs\\wpy-3662\\python-3.6.6.amd64\\lib\\site-packages (0.10.1)\n"
     ]
    }
   ],
   "source": [
    "\"\"\"\n",
    "Install lib that call Graphviz binary\n",
    "\"\"\"\n",
    "\n",
    "!pip install graphviz"
   ]
  },
  {
   "cell_type": "code",
   "execution_count": 15,
   "metadata": {
    "colab": {
     "autoexec": {
      "startup": false,
      "wait_interval": 0
     }
    },
    "colab_type": "code",
    "id": "1eRgxNHtQosy"
   },
   "outputs": [
    {
     "data": {
      "image/svg+xml": [
       "<?xml version=\"1.0\" encoding=\"UTF-8\" standalone=\"no\"?>\r\n",
       "<!DOCTYPE svg PUBLIC \"-//W3C//DTD SVG 1.1//EN\"\r\n",
       " \"http://www.w3.org/Graphics/SVG/1.1/DTD/svg11.dtd\">\r\n",
       "<!-- Generated by graphviz version 2.38.0 (20140413.2041)\r\n",
       " -->\r\n",
       "<!-- Title: Tree Pages: 1 -->\r\n",
       "<svg width=\"1729pt\" height=\"893pt\"\r\n",
       " viewBox=\"0.00 0.00 1729.00 893.00\" xmlns=\"http://www.w3.org/2000/svg\" xmlns:xlink=\"http://www.w3.org/1999/xlink\">\r\n",
       "<g id=\"graph0\" class=\"graph\" transform=\"scale(1 1) rotate(0) translate(4 889)\">\r\n",
       "<title>Tree</title>\r\n",
       "<polygon fill=\"white\" stroke=\"none\" points=\"-4,4 -4,-889 1725,-889 1725,4 -4,4\"/>\r\n",
       "<!-- 0 -->\r\n",
       "<g id=\"node1\" class=\"node\"><title>0</title>\r\n",
       "<polygon fill=\"none\" stroke=\"black\" points=\"958,-885 840,-885 840,-817 958,-817 958,-885\"/>\r\n",
       "<text text-anchor=\"middle\" x=\"899\" y=\"-869.8\" font-family=\"Times New Roman,serif\" font-size=\"14.00\">X[0] &lt;= 0.32</text>\r\n",
       "<text text-anchor=\"middle\" x=\"899\" y=\"-854.8\" font-family=\"Times New Roman,serif\" font-size=\"14.00\">gini = 0.495</text>\r\n",
       "<text text-anchor=\"middle\" x=\"899\" y=\"-839.8\" font-family=\"Times New Roman,serif\" font-size=\"14.00\">samples = 1097</text>\r\n",
       "<text text-anchor=\"middle\" x=\"899\" y=\"-824.8\" font-family=\"Times New Roman,serif\" font-size=\"14.00\">value = [604, 493]</text>\r\n",
       "</g>\r\n",
       "<!-- 1 -->\r\n",
       "<g id=\"node2\" class=\"node\"><title>1</title>\r\n",
       "<polygon fill=\"none\" stroke=\"black\" points=\"867,-781 749,-781 749,-713 867,-713 867,-781\"/>\r\n",
       "<text text-anchor=\"middle\" x=\"808\" y=\"-765.8\" font-family=\"Times New Roman,serif\" font-size=\"14.00\">X[1] &lt;= 7.565</text>\r\n",
       "<text text-anchor=\"middle\" x=\"808\" y=\"-750.8\" font-family=\"Times New Roman,serif\" font-size=\"14.00\">gini = 0.307</text>\r\n",
       "<text text-anchor=\"middle\" x=\"808\" y=\"-735.8\" font-family=\"Times New Roman,serif\" font-size=\"14.00\">samples = 534</text>\r\n",
       "<text text-anchor=\"middle\" x=\"808\" y=\"-720.8\" font-family=\"Times New Roman,serif\" font-size=\"14.00\">value = [101, 433]</text>\r\n",
       "</g>\r\n",
       "<!-- 0&#45;&gt;1 -->\r\n",
       "<g id=\"edge1\" class=\"edge\"><title>0&#45;&gt;1</title>\r\n",
       "<path fill=\"none\" stroke=\"black\" d=\"M869.455,-816.884C861.508,-807.976 852.818,-798.235 844.54,-788.957\"/>\r\n",
       "<polygon fill=\"black\" stroke=\"black\" points=\"846.977,-786.431 837.708,-781.299 841.754,-791.091 846.977,-786.431\"/>\r\n",
       "<text text-anchor=\"middle\" x=\"836.286\" y=\"-802.559\" font-family=\"Times New Roman,serif\" font-size=\"14.00\">True</text>\r\n",
       "</g>\r\n",
       "<!-- 28 -->\r\n",
       "<g id=\"node29\" class=\"node\"><title>28</title>\r\n",
       "<polygon fill=\"none\" stroke=\"black\" points=\"1046.5,-781 935.5,-781 935.5,-713 1046.5,-713 1046.5,-781\"/>\r\n",
       "<text text-anchor=\"middle\" x=\"991\" y=\"-765.8\" font-family=\"Times New Roman,serif\" font-size=\"14.00\">X[2] &lt;= &#45;4.386</text>\r\n",
       "<text text-anchor=\"middle\" x=\"991\" y=\"-750.8\" font-family=\"Times New Roman,serif\" font-size=\"14.00\">gini = 0.19</text>\r\n",
       "<text text-anchor=\"middle\" x=\"991\" y=\"-735.8\" font-family=\"Times New Roman,serif\" font-size=\"14.00\">samples = 563</text>\r\n",
       "<text text-anchor=\"middle\" x=\"991\" y=\"-720.8\" font-family=\"Times New Roman,serif\" font-size=\"14.00\">value = [503, 60]</text>\r\n",
       "</g>\r\n",
       "<!-- 0&#45;&gt;28 -->\r\n",
       "<g id=\"edge28\" class=\"edge\"><title>0&#45;&gt;28</title>\r\n",
       "<path fill=\"none\" stroke=\"black\" d=\"M928.87,-816.884C936.904,-807.976 945.69,-798.235 954.059,-788.957\"/>\r\n",
       "<polygon fill=\"black\" stroke=\"black\" points=\"956.867,-791.069 960.965,-781.299 951.669,-786.381 956.867,-791.069\"/>\r\n",
       "<text text-anchor=\"middle\" x=\"962.252\" y=\"-802.566\" font-family=\"Times New Roman,serif\" font-size=\"14.00\">False</text>\r\n",
       "</g>\r\n",
       "<!-- 2 -->\r\n",
       "<g id=\"node3\" class=\"node\"><title>2</title>\r\n",
       "<polygon fill=\"none\" stroke=\"black\" points=\"687.5,-677 576.5,-677 576.5,-609 687.5,-609 687.5,-677\"/>\r\n",
       "<text text-anchor=\"middle\" x=\"632\" y=\"-661.8\" font-family=\"Times New Roman,serif\" font-size=\"14.00\">X[0] &lt;= &#45;0.459</text>\r\n",
       "<text text-anchor=\"middle\" x=\"632\" y=\"-646.8\" font-family=\"Times New Roman,serif\" font-size=\"14.00\">gini = 0.136</text>\r\n",
       "<text text-anchor=\"middle\" x=\"632\" y=\"-631.8\" font-family=\"Times New Roman,serif\" font-size=\"14.00\">samples = 451</text>\r\n",
       "<text text-anchor=\"middle\" x=\"632\" y=\"-616.8\" font-family=\"Times New Roman,serif\" font-size=\"14.00\">value = [33, 418]</text>\r\n",
       "</g>\r\n",
       "<!-- 1&#45;&gt;2 -->\r\n",
       "<g id=\"edge2\" class=\"edge\"><title>1&#45;&gt;2</title>\r\n",
       "<path fill=\"none\" stroke=\"black\" d=\"M750.858,-712.884C733.592,-702.877 714.512,-691.819 696.785,-681.546\"/>\r\n",
       "<polygon fill=\"black\" stroke=\"black\" points=\"698.062,-678.241 687.655,-676.255 694.552,-684.297 698.062,-678.241\"/>\r\n",
       "</g>\r\n",
       "<!-- 25 -->\r\n",
       "<g id=\"node26\" class=\"node\"><title>25</title>\r\n",
       "<polygon fill=\"none\" stroke=\"black\" points=\"860,-677 756,-677 756,-609 860,-609 860,-677\"/>\r\n",
       "<text text-anchor=\"middle\" x=\"808\" y=\"-661.8\" font-family=\"Times New Roman,serif\" font-size=\"14.00\">X[0] &lt;= &#45;4.726</text>\r\n",
       "<text text-anchor=\"middle\" x=\"808\" y=\"-646.8\" font-family=\"Times New Roman,serif\" font-size=\"14.00\">gini = 0.296</text>\r\n",
       "<text text-anchor=\"middle\" x=\"808\" y=\"-631.8\" font-family=\"Times New Roman,serif\" font-size=\"14.00\">samples = 83</text>\r\n",
       "<text text-anchor=\"middle\" x=\"808\" y=\"-616.8\" font-family=\"Times New Roman,serif\" font-size=\"14.00\">value = [68, 15]</text>\r\n",
       "</g>\r\n",
       "<!-- 1&#45;&gt;25 -->\r\n",
       "<g id=\"edge25\" class=\"edge\"><title>1&#45;&gt;25</title>\r\n",
       "<path fill=\"none\" stroke=\"black\" d=\"M808,-712.884C808,-704.778 808,-695.982 808,-687.472\"/>\r\n",
       "<polygon fill=\"black\" stroke=\"black\" points=\"811.5,-687.299 808,-677.299 804.5,-687.299 811.5,-687.299\"/>\r\n",
       "</g>\r\n",
       "<!-- 3 -->\r\n",
       "<g id=\"node4\" class=\"node\"><title>3</title>\r\n",
       "<polygon fill=\"none\" stroke=\"black\" points=\"406.5,-573 295.5,-573 295.5,-505 406.5,-505 406.5,-573\"/>\r\n",
       "<text text-anchor=\"middle\" x=\"351\" y=\"-557.8\" font-family=\"Times New Roman,serif\" font-size=\"14.00\">X[2] &lt;= 6.739</text>\r\n",
       "<text text-anchor=\"middle\" x=\"351\" y=\"-542.8\" font-family=\"Times New Roman,serif\" font-size=\"14.00\">gini = 0.067</text>\r\n",
       "<text text-anchor=\"middle\" x=\"351\" y=\"-527.8\" font-family=\"Times New Roman,serif\" font-size=\"14.00\">samples = 377</text>\r\n",
       "<text text-anchor=\"middle\" x=\"351\" y=\"-512.8\" font-family=\"Times New Roman,serif\" font-size=\"14.00\">value = [13, 364]</text>\r\n",
       "</g>\r\n",
       "<!-- 2&#45;&gt;3 -->\r\n",
       "<g id=\"edge3\" class=\"edge\"><title>2&#45;&gt;3</title>\r\n",
       "<path fill=\"none\" stroke=\"black\" d=\"M576.483,-621.848C530.449,-605.138 464.918,-581.351 416.357,-563.724\"/>\r\n",
       "<polygon fill=\"black\" stroke=\"black\" points=\"417.476,-560.407 406.881,-560.284 415.087,-566.986 417.476,-560.407\"/>\r\n",
       "</g>\r\n",
       "<!-- 12 -->\r\n",
       "<g id=\"node13\" class=\"node\"><title>12</title>\r\n",
       "<polygon fill=\"none\" stroke=\"black\" points=\"684,-573 580,-573 580,-505 684,-505 684,-573\"/>\r\n",
       "<text text-anchor=\"middle\" x=\"632\" y=\"-557.8\" font-family=\"Times New Roman,serif\" font-size=\"14.00\">X[2] &lt;= 0.297</text>\r\n",
       "<text text-anchor=\"middle\" x=\"632\" y=\"-542.8\" font-family=\"Times New Roman,serif\" font-size=\"14.00\">gini = 0.394</text>\r\n",
       "<text text-anchor=\"middle\" x=\"632\" y=\"-527.8\" font-family=\"Times New Roman,serif\" font-size=\"14.00\">samples = 74</text>\r\n",
       "<text text-anchor=\"middle\" x=\"632\" y=\"-512.8\" font-family=\"Times New Roman,serif\" font-size=\"14.00\">value = [20, 54]</text>\r\n",
       "</g>\r\n",
       "<!-- 2&#45;&gt;12 -->\r\n",
       "<g id=\"edge12\" class=\"edge\"><title>2&#45;&gt;12</title>\r\n",
       "<path fill=\"none\" stroke=\"black\" d=\"M632,-608.884C632,-600.778 632,-591.982 632,-583.472\"/>\r\n",
       "<polygon fill=\"black\" stroke=\"black\" points=\"635.5,-583.299 632,-573.299 628.5,-583.299 635.5,-583.299\"/>\r\n",
       "</g>\r\n",
       "<!-- 4 -->\r\n",
       "<g id=\"node5\" class=\"node\"><title>4</title>\r\n",
       "<polygon fill=\"none\" stroke=\"black\" points=\"225,-469 121,-469 121,-401 225,-401 225,-469\"/>\r\n",
       "<text text-anchor=\"middle\" x=\"173\" y=\"-453.8\" font-family=\"Times New Roman,serif\" font-size=\"14.00\">X[1] &lt;= 7.293</text>\r\n",
       "<text text-anchor=\"middle\" x=\"173\" y=\"-438.8\" font-family=\"Times New Roman,serif\" font-size=\"14.00\">gini = 0.007</text>\r\n",
       "<text text-anchor=\"middle\" x=\"173\" y=\"-423.8\" font-family=\"Times New Roman,serif\" font-size=\"14.00\">samples = 267</text>\r\n",
       "<text text-anchor=\"middle\" x=\"173\" y=\"-408.8\" font-family=\"Times New Roman,serif\" font-size=\"14.00\">value = [1, 266]</text>\r\n",
       "</g>\r\n",
       "<!-- 3&#45;&gt;4 -->\r\n",
       "<g id=\"edge4\" class=\"edge\"><title>3&#45;&gt;4</title>\r\n",
       "<path fill=\"none\" stroke=\"black\" d=\"M295.168,-506.006C275.805,-494.911 253.998,-482.415 234.224,-471.083\"/>\r\n",
       "<polygon fill=\"black\" stroke=\"black\" points=\"235.714,-467.904 225.298,-465.968 232.234,-473.977 235.714,-467.904\"/>\r\n",
       "</g>\r\n",
       "<!-- 9 -->\r\n",
       "<g id=\"node10\" class=\"node\"><title>9</title>\r\n",
       "<polygon fill=\"none\" stroke=\"black\" points=\"403,-469 299,-469 299,-401 403,-401 403,-469\"/>\r\n",
       "<text text-anchor=\"middle\" x=\"351\" y=\"-453.8\" font-family=\"Times New Roman,serif\" font-size=\"14.00\">X[1] &lt;= &#45;4.8</text>\r\n",
       "<text text-anchor=\"middle\" x=\"351\" y=\"-438.8\" font-family=\"Times New Roman,serif\" font-size=\"14.00\">gini = 0.194</text>\r\n",
       "<text text-anchor=\"middle\" x=\"351\" y=\"-423.8\" font-family=\"Times New Roman,serif\" font-size=\"14.00\">samples = 110</text>\r\n",
       "<text text-anchor=\"middle\" x=\"351\" y=\"-408.8\" font-family=\"Times New Roman,serif\" font-size=\"14.00\">value = [12, 98]</text>\r\n",
       "</g>\r\n",
       "<!-- 3&#45;&gt;9 -->\r\n",
       "<g id=\"edge9\" class=\"edge\"><title>3&#45;&gt;9</title>\r\n",
       "<path fill=\"none\" stroke=\"black\" d=\"M351,-504.884C351,-496.778 351,-487.982 351,-479.472\"/>\r\n",
       "<polygon fill=\"black\" stroke=\"black\" points=\"354.5,-479.299 351,-469.299 347.5,-479.299 354.5,-479.299\"/>\r\n",
       "</g>\r\n",
       "<!-- 5 -->\r\n",
       "<g id=\"node6\" class=\"node\"><title>5</title>\r\n",
       "<polygon fill=\"none\" stroke=\"black\" points=\"104,-357.5 0,-357.5 0,-304.5 104,-304.5 104,-357.5\"/>\r\n",
       "<text text-anchor=\"middle\" x=\"52\" y=\"-342.3\" font-family=\"Times New Roman,serif\" font-size=\"14.00\">gini = 0.0</text>\r\n",
       "<text text-anchor=\"middle\" x=\"52\" y=\"-327.3\" font-family=\"Times New Roman,serif\" font-size=\"14.00\">samples = 264</text>\r\n",
       "<text text-anchor=\"middle\" x=\"52\" y=\"-312.3\" font-family=\"Times New Roman,serif\" font-size=\"14.00\">value = [0, 264]</text>\r\n",
       "</g>\r\n",
       "<!-- 4&#45;&gt;5 -->\r\n",
       "<g id=\"edge5\" class=\"edge\"><title>4&#45;&gt;5</title>\r\n",
       "<path fill=\"none\" stroke=\"black\" d=\"M133.715,-400.884C119.755,-389.116 104.07,-375.894 90.202,-364.203\"/>\r\n",
       "<polygon fill=\"black\" stroke=\"black\" points=\"92.1753,-361.289 82.2736,-357.52 87.6637,-366.641 92.1753,-361.289\"/>\r\n",
       "</g>\r\n",
       "<!-- 6 -->\r\n",
       "<g id=\"node7\" class=\"node\"><title>6</title>\r\n",
       "<polygon fill=\"none\" stroke=\"black\" points=\"223.5,-365 122.5,-365 122.5,-297 223.5,-297 223.5,-365\"/>\r\n",
       "<text text-anchor=\"middle\" x=\"173\" y=\"-349.8\" font-family=\"Times New Roman,serif\" font-size=\"14.00\">X[0] &lt;= &#45;2.509</text>\r\n",
       "<text text-anchor=\"middle\" x=\"173\" y=\"-334.8\" font-family=\"Times New Roman,serif\" font-size=\"14.00\">gini = 0.444</text>\r\n",
       "<text text-anchor=\"middle\" x=\"173\" y=\"-319.8\" font-family=\"Times New Roman,serif\" font-size=\"14.00\">samples = 3</text>\r\n",
       "<text text-anchor=\"middle\" x=\"173\" y=\"-304.8\" font-family=\"Times New Roman,serif\" font-size=\"14.00\">value = [1, 2]</text>\r\n",
       "</g>\r\n",
       "<!-- 4&#45;&gt;6 -->\r\n",
       "<g id=\"edge6\" class=\"edge\"><title>4&#45;&gt;6</title>\r\n",
       "<path fill=\"none\" stroke=\"black\" d=\"M173,-400.884C173,-392.778 173,-383.982 173,-375.472\"/>\r\n",
       "<polygon fill=\"black\" stroke=\"black\" points=\"176.5,-375.299 173,-365.299 169.5,-375.299 176.5,-375.299\"/>\r\n",
       "</g>\r\n",
       "<!-- 7 -->\r\n",
       "<g id=\"node8\" class=\"node\"><title>7</title>\r\n",
       "<polygon fill=\"none\" stroke=\"black\" points=\"163.5,-253.5 72.5,-253.5 72.5,-200.5 163.5,-200.5 163.5,-253.5\"/>\r\n",
       "<text text-anchor=\"middle\" x=\"118\" y=\"-238.3\" font-family=\"Times New Roman,serif\" font-size=\"14.00\">gini = 0.0</text>\r\n",
       "<text text-anchor=\"middle\" x=\"118\" y=\"-223.3\" font-family=\"Times New Roman,serif\" font-size=\"14.00\">samples = 2</text>\r\n",
       "<text text-anchor=\"middle\" x=\"118\" y=\"-208.3\" font-family=\"Times New Roman,serif\" font-size=\"14.00\">value = [0, 2]</text>\r\n",
       "</g>\r\n",
       "<!-- 6&#45;&gt;7 -->\r\n",
       "<g id=\"edge7\" class=\"edge\"><title>6&#45;&gt;7</title>\r\n",
       "<path fill=\"none\" stroke=\"black\" d=\"M155.143,-296.884C149.213,-285.886 142.598,-273.617 136.612,-262.517\"/>\r\n",
       "<polygon fill=\"black\" stroke=\"black\" points=\"139.588,-260.661 131.761,-253.52 133.426,-263.983 139.588,-260.661\"/>\r\n",
       "</g>\r\n",
       "<!-- 8 -->\r\n",
       "<g id=\"node9\" class=\"node\"><title>8</title>\r\n",
       "<polygon fill=\"none\" stroke=\"black\" points=\"272.5,-253.5 181.5,-253.5 181.5,-200.5 272.5,-200.5 272.5,-253.5\"/>\r\n",
       "<text text-anchor=\"middle\" x=\"227\" y=\"-238.3\" font-family=\"Times New Roman,serif\" font-size=\"14.00\">gini = 0.0</text>\r\n",
       "<text text-anchor=\"middle\" x=\"227\" y=\"-223.3\" font-family=\"Times New Roman,serif\" font-size=\"14.00\">samples = 1</text>\r\n",
       "<text text-anchor=\"middle\" x=\"227\" y=\"-208.3\" font-family=\"Times New Roman,serif\" font-size=\"14.00\">value = [1, 0]</text>\r\n",
       "</g>\r\n",
       "<!-- 6&#45;&gt;8 -->\r\n",
       "<g id=\"edge8\" class=\"edge\"><title>6&#45;&gt;8</title>\r\n",
       "<path fill=\"none\" stroke=\"black\" d=\"M190.532,-296.884C196.355,-285.886 202.85,-273.617 208.727,-262.517\"/>\r\n",
       "<polygon fill=\"black\" stroke=\"black\" points=\"211.904,-263.995 213.489,-253.52 205.717,-260.72 211.904,-263.995\"/>\r\n",
       "</g>\r\n",
       "<!-- 10 -->\r\n",
       "<g id=\"node11\" class=\"node\"><title>10</title>\r\n",
       "<polygon fill=\"none\" stroke=\"black\" points=\"340,-357.5 242,-357.5 242,-304.5 340,-304.5 340,-357.5\"/>\r\n",
       "<text text-anchor=\"middle\" x=\"291\" y=\"-342.3\" font-family=\"Times New Roman,serif\" font-size=\"14.00\">gini = 0.0</text>\r\n",
       "<text text-anchor=\"middle\" x=\"291\" y=\"-327.3\" font-family=\"Times New Roman,serif\" font-size=\"14.00\">samples = 98</text>\r\n",
       "<text text-anchor=\"middle\" x=\"291\" y=\"-312.3\" font-family=\"Times New Roman,serif\" font-size=\"14.00\">value = [0, 98]</text>\r\n",
       "</g>\r\n",
       "<!-- 9&#45;&gt;10 -->\r\n",
       "<g id=\"edge10\" class=\"edge\"><title>9&#45;&gt;10</title>\r\n",
       "<path fill=\"none\" stroke=\"black\" d=\"M331.52,-400.884C324.986,-389.776 317.689,-377.372 311.108,-366.184\"/>\r\n",
       "<polygon fill=\"black\" stroke=\"black\" points=\"314.099,-364.365 306.012,-357.52 308.065,-367.914 314.099,-364.365\"/>\r\n",
       "</g>\r\n",
       "<!-- 11 -->\r\n",
       "<g id=\"node12\" class=\"node\"><title>11</title>\r\n",
       "<polygon fill=\"none\" stroke=\"black\" points=\"456,-357.5 358,-357.5 358,-304.5 456,-304.5 456,-357.5\"/>\r\n",
       "<text text-anchor=\"middle\" x=\"407\" y=\"-342.3\" font-family=\"Times New Roman,serif\" font-size=\"14.00\">gini = 0.0</text>\r\n",
       "<text text-anchor=\"middle\" x=\"407\" y=\"-327.3\" font-family=\"Times New Roman,serif\" font-size=\"14.00\">samples = 12</text>\r\n",
       "<text text-anchor=\"middle\" x=\"407\" y=\"-312.3\" font-family=\"Times New Roman,serif\" font-size=\"14.00\">value = [12, 0]</text>\r\n",
       "</g>\r\n",
       "<!-- 9&#45;&gt;11 -->\r\n",
       "<g id=\"edge11\" class=\"edge\"><title>9&#45;&gt;11</title>\r\n",
       "<path fill=\"none\" stroke=\"black\" d=\"M369.182,-400.884C375.22,-389.886 381.955,-377.617 388.05,-366.517\"/>\r\n",
       "<polygon fill=\"black\" stroke=\"black\" points=\"391.244,-367.97 392.989,-357.52 385.108,-364.601 391.244,-367.97\"/>\r\n",
       "</g>\r\n",
       "<!-- 13 -->\r\n",
       "<g id=\"node14\" class=\"node\"><title>13</title>\r\n",
       "<polygon fill=\"none\" stroke=\"black\" points=\"681,-469 583,-469 583,-401 681,-401 681,-469\"/>\r\n",
       "<text text-anchor=\"middle\" x=\"632\" y=\"-453.8\" font-family=\"Times New Roman,serif\" font-size=\"14.00\">X[1] &lt;= 5.632</text>\r\n",
       "<text text-anchor=\"middle\" x=\"632\" y=\"-438.8\" font-family=\"Times New Roman,serif\" font-size=\"14.00\">gini = 0.113</text>\r\n",
       "<text text-anchor=\"middle\" x=\"632\" y=\"-423.8\" font-family=\"Times New Roman,serif\" font-size=\"14.00\">samples = 50</text>\r\n",
       "<text text-anchor=\"middle\" x=\"632\" y=\"-408.8\" font-family=\"Times New Roman,serif\" font-size=\"14.00\">value = [3, 47]</text>\r\n",
       "</g>\r\n",
       "<!-- 12&#45;&gt;13 -->\r\n",
       "<g id=\"edge13\" class=\"edge\"><title>12&#45;&gt;13</title>\r\n",
       "<path fill=\"none\" stroke=\"black\" d=\"M632,-504.884C632,-496.778 632,-487.982 632,-479.472\"/>\r\n",
       "<polygon fill=\"black\" stroke=\"black\" points=\"635.5,-479.299 632,-469.299 628.5,-479.299 635.5,-479.299\"/>\r\n",
       "</g>\r\n",
       "<!-- 16 -->\r\n",
       "<g id=\"node17\" class=\"node\"><title>16</title>\r\n",
       "<polygon fill=\"none\" stroke=\"black\" points=\"798,-469 700,-469 700,-401 798,-401 798,-469\"/>\r\n",
       "<text text-anchor=\"middle\" x=\"749\" y=\"-453.8\" font-family=\"Times New Roman,serif\" font-size=\"14.00\">X[3] &lt;= 0.821</text>\r\n",
       "<text text-anchor=\"middle\" x=\"749\" y=\"-438.8\" font-family=\"Times New Roman,serif\" font-size=\"14.00\">gini = 0.413</text>\r\n",
       "<text text-anchor=\"middle\" x=\"749\" y=\"-423.8\" font-family=\"Times New Roman,serif\" font-size=\"14.00\">samples = 24</text>\r\n",
       "<text text-anchor=\"middle\" x=\"749\" y=\"-408.8\" font-family=\"Times New Roman,serif\" font-size=\"14.00\">value = [17, 7]</text>\r\n",
       "</g>\r\n",
       "<!-- 12&#45;&gt;16 -->\r\n",
       "<g id=\"edge16\" class=\"edge\"><title>12&#45;&gt;16</title>\r\n",
       "<path fill=\"none\" stroke=\"black\" d=\"M669.987,-504.884C680.51,-495.709 692.048,-485.65 702.977,-476.123\"/>\r\n",
       "<polygon fill=\"black\" stroke=\"black\" points=\"705.566,-478.509 710.804,-469.299 700.966,-473.233 705.566,-478.509\"/>\r\n",
       "</g>\r\n",
       "<!-- 14 -->\r\n",
       "<g id=\"node15\" class=\"node\"><title>14</title>\r\n",
       "<polygon fill=\"none\" stroke=\"black\" points=\"572,-357.5 474,-357.5 474,-304.5 572,-304.5 572,-357.5\"/>\r\n",
       "<text text-anchor=\"middle\" x=\"523\" y=\"-342.3\" font-family=\"Times New Roman,serif\" font-size=\"14.00\">gini = 0.0</text>\r\n",
       "<text text-anchor=\"middle\" x=\"523\" y=\"-327.3\" font-family=\"Times New Roman,serif\" font-size=\"14.00\">samples = 47</text>\r\n",
       "<text text-anchor=\"middle\" x=\"523\" y=\"-312.3\" font-family=\"Times New Roman,serif\" font-size=\"14.00\">value = [0, 47]</text>\r\n",
       "</g>\r\n",
       "<!-- 13&#45;&gt;14 -->\r\n",
       "<g id=\"edge14\" class=\"edge\"><title>13&#45;&gt;14</title>\r\n",
       "<path fill=\"none\" stroke=\"black\" d=\"M596.611,-400.884C584.153,-389.226 570.17,-376.141 557.764,-364.532\"/>\r\n",
       "<polygon fill=\"black\" stroke=\"black\" points=\"559.964,-361.797 550.271,-357.52 555.181,-366.908 559.964,-361.797\"/>\r\n",
       "</g>\r\n",
       "<!-- 15 -->\r\n",
       "<g id=\"node16\" class=\"node\"><title>15</title>\r\n",
       "<polygon fill=\"none\" stroke=\"black\" points=\"681.5,-357.5 590.5,-357.5 590.5,-304.5 681.5,-304.5 681.5,-357.5\"/>\r\n",
       "<text text-anchor=\"middle\" x=\"636\" y=\"-342.3\" font-family=\"Times New Roman,serif\" font-size=\"14.00\">gini = 0.0</text>\r\n",
       "<text text-anchor=\"middle\" x=\"636\" y=\"-327.3\" font-family=\"Times New Roman,serif\" font-size=\"14.00\">samples = 3</text>\r\n",
       "<text text-anchor=\"middle\" x=\"636\" y=\"-312.3\" font-family=\"Times New Roman,serif\" font-size=\"14.00\">value = [3, 0]</text>\r\n",
       "</g>\r\n",
       "<!-- 13&#45;&gt;15 -->\r\n",
       "<g id=\"edge15\" class=\"edge\"><title>13&#45;&gt;15</title>\r\n",
       "<path fill=\"none\" stroke=\"black\" d=\"M633.299,-400.884C633.717,-390.216 634.182,-378.352 634.607,-367.519\"/>\r\n",
       "<polygon fill=\"black\" stroke=\"black\" points=\"638.105,-367.649 634.999,-357.52 631.11,-367.375 638.105,-367.649\"/>\r\n",
       "</g>\r\n",
       "<!-- 17 -->\r\n",
       "<g id=\"node18\" class=\"node\"><title>17</title>\r\n",
       "<polygon fill=\"none\" stroke=\"black\" points=\"798,-365 700,-365 700,-297 798,-297 798,-365\"/>\r\n",
       "<text text-anchor=\"middle\" x=\"749\" y=\"-349.8\" font-family=\"Times New Roman,serif\" font-size=\"14.00\">X[0] &lt;= 0.096</text>\r\n",
       "<text text-anchor=\"middle\" x=\"749\" y=\"-334.8\" font-family=\"Times New Roman,serif\" font-size=\"14.00\">gini = 0.255</text>\r\n",
       "<text text-anchor=\"middle\" x=\"749\" y=\"-319.8\" font-family=\"Times New Roman,serif\" font-size=\"14.00\">samples = 20</text>\r\n",
       "<text text-anchor=\"middle\" x=\"749\" y=\"-304.8\" font-family=\"Times New Roman,serif\" font-size=\"14.00\">value = [17, 3]</text>\r\n",
       "</g>\r\n",
       "<!-- 16&#45;&gt;17 -->\r\n",
       "<g id=\"edge17\" class=\"edge\"><title>16&#45;&gt;17</title>\r\n",
       "<path fill=\"none\" stroke=\"black\" d=\"M749,-400.884C749,-392.778 749,-383.982 749,-375.472\"/>\r\n",
       "<polygon fill=\"black\" stroke=\"black\" points=\"752.5,-375.299 749,-365.299 745.5,-375.299 752.5,-375.299\"/>\r\n",
       "</g>\r\n",
       "<!-- 24 -->\r\n",
       "<g id=\"node25\" class=\"node\"><title>24</title>\r\n",
       "<polygon fill=\"none\" stroke=\"black\" points=\"907.5,-357.5 816.5,-357.5 816.5,-304.5 907.5,-304.5 907.5,-357.5\"/>\r\n",
       "<text text-anchor=\"middle\" x=\"862\" y=\"-342.3\" font-family=\"Times New Roman,serif\" font-size=\"14.00\">gini = 0.0</text>\r\n",
       "<text text-anchor=\"middle\" x=\"862\" y=\"-327.3\" font-family=\"Times New Roman,serif\" font-size=\"14.00\">samples = 4</text>\r\n",
       "<text text-anchor=\"middle\" x=\"862\" y=\"-312.3\" font-family=\"Times New Roman,serif\" font-size=\"14.00\">value = [0, 4]</text>\r\n",
       "</g>\r\n",
       "<!-- 16&#45;&gt;24 -->\r\n",
       "<g id=\"edge24\" class=\"edge\"><title>16&#45;&gt;24</title>\r\n",
       "<path fill=\"none\" stroke=\"black\" d=\"M785.688,-400.884C798.603,-389.226 813.099,-376.141 825.96,-364.532\"/>\r\n",
       "<polygon fill=\"black\" stroke=\"black\" points=\"828.65,-366.819 833.728,-357.52 823.96,-361.622 828.65,-366.819\"/>\r\n",
       "</g>\r\n",
       "<!-- 18 -->\r\n",
       "<g id=\"node19\" class=\"node\"><title>18</title>\r\n",
       "<polygon fill=\"none\" stroke=\"black\" points=\"742,-261 644,-261 644,-193 742,-193 742,-261\"/>\r\n",
       "<text text-anchor=\"middle\" x=\"693\" y=\"-245.8\" font-family=\"Times New Roman,serif\" font-size=\"14.00\">X[3] &lt;= 0.728</text>\r\n",
       "<text text-anchor=\"middle\" x=\"693\" y=\"-230.8\" font-family=\"Times New Roman,serif\" font-size=\"14.00\">gini = 0.105</text>\r\n",
       "<text text-anchor=\"middle\" x=\"693\" y=\"-215.8\" font-family=\"Times New Roman,serif\" font-size=\"14.00\">samples = 18</text>\r\n",
       "<text text-anchor=\"middle\" x=\"693\" y=\"-200.8\" font-family=\"Times New Roman,serif\" font-size=\"14.00\">value = [17, 1]</text>\r\n",
       "</g>\r\n",
       "<!-- 17&#45;&gt;18 -->\r\n",
       "<g id=\"edge18\" class=\"edge\"><title>17&#45;&gt;18</title>\r\n",
       "<path fill=\"none\" stroke=\"black\" d=\"M730.818,-296.884C726.124,-288.332 721.007,-279.013 716.098,-270.072\"/>\r\n",
       "<polygon fill=\"black\" stroke=\"black\" points=\"719.163,-268.381 711.282,-261.299 713.027,-271.75 719.163,-268.381\"/>\r\n",
       "</g>\r\n",
       "<!-- 23 -->\r\n",
       "<g id=\"node24\" class=\"node\"><title>23</title>\r\n",
       "<polygon fill=\"none\" stroke=\"black\" points=\"851.5,-253.5 760.5,-253.5 760.5,-200.5 851.5,-200.5 851.5,-253.5\"/>\r\n",
       "<text text-anchor=\"middle\" x=\"806\" y=\"-238.3\" font-family=\"Times New Roman,serif\" font-size=\"14.00\">gini = 0.0</text>\r\n",
       "<text text-anchor=\"middle\" x=\"806\" y=\"-223.3\" font-family=\"Times New Roman,serif\" font-size=\"14.00\">samples = 2</text>\r\n",
       "<text text-anchor=\"middle\" x=\"806\" y=\"-208.3\" font-family=\"Times New Roman,serif\" font-size=\"14.00\">value = [0, 2]</text>\r\n",
       "</g>\r\n",
       "<!-- 17&#45;&gt;23 -->\r\n",
       "<g id=\"edge23\" class=\"edge\"><title>17&#45;&gt;23</title>\r\n",
       "<path fill=\"none\" stroke=\"black\" d=\"M767.506,-296.884C773.652,-285.886 780.508,-273.617 786.711,-262.517\"/>\r\n",
       "<polygon fill=\"black\" stroke=\"black\" points=\"789.916,-263.957 791.739,-253.52 783.805,-260.542 789.916,-263.957\"/>\r\n",
       "</g>\r\n",
       "<!-- 19 -->\r\n",
       "<g id=\"node20\" class=\"node\"><title>19</title>\r\n",
       "<polygon fill=\"none\" stroke=\"black\" points=\"679,-149.5 581,-149.5 581,-96.5 679,-96.5 679,-149.5\"/>\r\n",
       "<text text-anchor=\"middle\" x=\"630\" y=\"-134.3\" font-family=\"Times New Roman,serif\" font-size=\"14.00\">gini = 0.0</text>\r\n",
       "<text text-anchor=\"middle\" x=\"630\" y=\"-119.3\" font-family=\"Times New Roman,serif\" font-size=\"14.00\">samples = 16</text>\r\n",
       "<text text-anchor=\"middle\" x=\"630\" y=\"-104.3\" font-family=\"Times New Roman,serif\" font-size=\"14.00\">value = [16, 0]</text>\r\n",
       "</g>\r\n",
       "<!-- 18&#45;&gt;19 -->\r\n",
       "<g id=\"edge19\" class=\"edge\"><title>18&#45;&gt;19</title>\r\n",
       "<path fill=\"none\" stroke=\"black\" d=\"M672.546,-192.884C665.685,-181.776 658.024,-169.372 651.114,-158.184\"/>\r\n",
       "<polygon fill=\"black\" stroke=\"black\" points=\"653.995,-156.189 645.762,-149.52 648.039,-159.867 653.995,-156.189\"/>\r\n",
       "</g>\r\n",
       "<!-- 20 -->\r\n",
       "<g id=\"node21\" class=\"node\"><title>20</title>\r\n",
       "<polygon fill=\"none\" stroke=\"black\" points=\"798.5,-157 697.5,-157 697.5,-89 798.5,-89 798.5,-157\"/>\r\n",
       "<text text-anchor=\"middle\" x=\"748\" y=\"-141.8\" font-family=\"Times New Roman,serif\" font-size=\"14.00\">X[1] &lt;= &#45;1.393</text>\r\n",
       "<text text-anchor=\"middle\" x=\"748\" y=\"-126.8\" font-family=\"Times New Roman,serif\" font-size=\"14.00\">gini = 0.5</text>\r\n",
       "<text text-anchor=\"middle\" x=\"748\" y=\"-111.8\" font-family=\"Times New Roman,serif\" font-size=\"14.00\">samples = 2</text>\r\n",
       "<text text-anchor=\"middle\" x=\"748\" y=\"-96.8\" font-family=\"Times New Roman,serif\" font-size=\"14.00\">value = [1, 1]</text>\r\n",
       "</g>\r\n",
       "<!-- 18&#45;&gt;20 -->\r\n",
       "<g id=\"edge20\" class=\"edge\"><title>18&#45;&gt;20</title>\r\n",
       "<path fill=\"none\" stroke=\"black\" d=\"M710.857,-192.884C715.42,-184.422 720.388,-175.207 725.163,-166.352\"/>\r\n",
       "<polygon fill=\"black\" stroke=\"black\" points=\"728.379,-167.762 730.044,-157.299 722.218,-164.44 728.379,-167.762\"/>\r\n",
       "</g>\r\n",
       "<!-- 21 -->\r\n",
       "<g id=\"node22\" class=\"node\"><title>21</title>\r\n",
       "<polygon fill=\"none\" stroke=\"black\" points=\"738.5,-53 647.5,-53 647.5,-0 738.5,-0 738.5,-53\"/>\r\n",
       "<text text-anchor=\"middle\" x=\"693\" y=\"-37.8\" font-family=\"Times New Roman,serif\" font-size=\"14.00\">gini = 0.0</text>\r\n",
       "<text text-anchor=\"middle\" x=\"693\" y=\"-22.8\" font-family=\"Times New Roman,serif\" font-size=\"14.00\">samples = 1</text>\r\n",
       "<text text-anchor=\"middle\" x=\"693\" y=\"-7.8\" font-family=\"Times New Roman,serif\" font-size=\"14.00\">value = [1, 0]</text>\r\n",
       "</g>\r\n",
       "<!-- 20&#45;&gt;21 -->\r\n",
       "<g id=\"edge21\" class=\"edge\"><title>20&#45;&gt;21</title>\r\n",
       "<path fill=\"none\" stroke=\"black\" d=\"M728.764,-88.9485C723.706,-80.2579 718.236,-70.8608 713.133,-62.0917\"/>\r\n",
       "<polygon fill=\"black\" stroke=\"black\" points=\"716.034,-60.1189 707.979,-53.2367 709.984,-63.6401 716.034,-60.1189\"/>\r\n",
       "</g>\r\n",
       "<!-- 22 -->\r\n",
       "<g id=\"node23\" class=\"node\"><title>22</title>\r\n",
       "<polygon fill=\"none\" stroke=\"black\" points=\"847.5,-53 756.5,-53 756.5,-0 847.5,-0 847.5,-53\"/>\r\n",
       "<text text-anchor=\"middle\" x=\"802\" y=\"-37.8\" font-family=\"Times New Roman,serif\" font-size=\"14.00\">gini = 0.0</text>\r\n",
       "<text text-anchor=\"middle\" x=\"802\" y=\"-22.8\" font-family=\"Times New Roman,serif\" font-size=\"14.00\">samples = 1</text>\r\n",
       "<text text-anchor=\"middle\" x=\"802\" y=\"-7.8\" font-family=\"Times New Roman,serif\" font-size=\"14.00\">value = [0, 1]</text>\r\n",
       "</g>\r\n",
       "<!-- 20&#45;&gt;22 -->\r\n",
       "<g id=\"edge22\" class=\"edge\"><title>20&#45;&gt;22</title>\r\n",
       "<path fill=\"none\" stroke=\"black\" d=\"M766.887,-88.9485C771.853,-80.2579 777.222,-70.8608 782.233,-62.0917\"/>\r\n",
       "<polygon fill=\"black\" stroke=\"black\" points=\"785.371,-63.6557 787.293,-53.2367 779.293,-60.1826 785.371,-63.6557\"/>\r\n",
       "</g>\r\n",
       "<!-- 26 -->\r\n",
       "<g id=\"node27\" class=\"node\"><title>26</title>\r\n",
       "<polygon fill=\"none\" stroke=\"black\" points=\"800,-565.5 702,-565.5 702,-512.5 800,-512.5 800,-565.5\"/>\r\n",
       "<text text-anchor=\"middle\" x=\"751\" y=\"-550.3\" font-family=\"Times New Roman,serif\" font-size=\"14.00\">gini = 0.0</text>\r\n",
       "<text text-anchor=\"middle\" x=\"751\" y=\"-535.3\" font-family=\"Times New Roman,serif\" font-size=\"14.00\">samples = 15</text>\r\n",
       "<text text-anchor=\"middle\" x=\"751\" y=\"-520.3\" font-family=\"Times New Roman,serif\" font-size=\"14.00\">value = [0, 15]</text>\r\n",
       "</g>\r\n",
       "<!-- 25&#45;&gt;26 -->\r\n",
       "<g id=\"edge26\" class=\"edge\"><title>25&#45;&gt;26</title>\r\n",
       "<path fill=\"none\" stroke=\"black\" d=\"M789.494,-608.884C783.348,-597.886 776.492,-585.617 770.289,-574.517\"/>\r\n",
       "<polygon fill=\"black\" stroke=\"black\" points=\"773.195,-572.542 765.261,-565.52 767.084,-575.957 773.195,-572.542\"/>\r\n",
       "</g>\r\n",
       "<!-- 27 -->\r\n",
       "<g id=\"node28\" class=\"node\"><title>27</title>\r\n",
       "<polygon fill=\"none\" stroke=\"black\" points=\"916,-565.5 818,-565.5 818,-512.5 916,-512.5 916,-565.5\"/>\r\n",
       "<text text-anchor=\"middle\" x=\"867\" y=\"-550.3\" font-family=\"Times New Roman,serif\" font-size=\"14.00\">gini = 0.0</text>\r\n",
       "<text text-anchor=\"middle\" x=\"867\" y=\"-535.3\" font-family=\"Times New Roman,serif\" font-size=\"14.00\">samples = 68</text>\r\n",
       "<text text-anchor=\"middle\" x=\"867\" y=\"-520.3\" font-family=\"Times New Roman,serif\" font-size=\"14.00\">value = [68, 0]</text>\r\n",
       "</g>\r\n",
       "<!-- 25&#45;&gt;27 -->\r\n",
       "<g id=\"edge27\" class=\"edge\"><title>25&#45;&gt;27</title>\r\n",
       "<path fill=\"none\" stroke=\"black\" d=\"M827.156,-608.884C833.581,-597.776 840.755,-585.372 847.227,-574.184\"/>\r\n",
       "<polygon fill=\"black\" stroke=\"black\" points=\"850.261,-575.929 852.238,-565.52 844.202,-572.424 850.261,-575.929\"/>\r\n",
       "</g>\r\n",
       "<!-- 29 -->\r\n",
       "<g id=\"node30\" class=\"node\"><title>29</title>\r\n",
       "<polygon fill=\"none\" stroke=\"black\" points=\"1040,-677 942,-677 942,-609 1040,-609 1040,-677\"/>\r\n",
       "<text text-anchor=\"middle\" x=\"991\" y=\"-661.8\" font-family=\"Times New Roman,serif\" font-size=\"14.00\">X[1] &lt;= 7.331</text>\r\n",
       "<text text-anchor=\"middle\" x=\"991\" y=\"-646.8\" font-family=\"Times New Roman,serif\" font-size=\"14.00\">gini = 0.32</text>\r\n",
       "<text text-anchor=\"middle\" x=\"991\" y=\"-631.8\" font-family=\"Times New Roman,serif\" font-size=\"14.00\">samples = 30</text>\r\n",
       "<text text-anchor=\"middle\" x=\"991\" y=\"-616.8\" font-family=\"Times New Roman,serif\" font-size=\"14.00\">value = [6, 24]</text>\r\n",
       "</g>\r\n",
       "<!-- 28&#45;&gt;29 -->\r\n",
       "<g id=\"edge29\" class=\"edge\"><title>28&#45;&gt;29</title>\r\n",
       "<path fill=\"none\" stroke=\"black\" d=\"M991,-712.884C991,-704.778 991,-695.982 991,-687.472\"/>\r\n",
       "<polygon fill=\"black\" stroke=\"black\" points=\"994.5,-687.299 991,-677.299 987.5,-687.299 994.5,-687.299\"/>\r\n",
       "</g>\r\n",
       "<!-- 32 -->\r\n",
       "<g id=\"node33\" class=\"node\"><title>32</title>\r\n",
       "<polygon fill=\"none\" stroke=\"black\" points=\"1270.5,-677 1159.5,-677 1159.5,-609 1270.5,-609 1270.5,-677\"/>\r\n",
       "<text text-anchor=\"middle\" x=\"1215\" y=\"-661.8\" font-family=\"Times New Roman,serif\" font-size=\"14.00\">X[0] &lt;= 1.592</text>\r\n",
       "<text text-anchor=\"middle\" x=\"1215\" y=\"-646.8\" font-family=\"Times New Roman,serif\" font-size=\"14.00\">gini = 0.126</text>\r\n",
       "<text text-anchor=\"middle\" x=\"1215\" y=\"-631.8\" font-family=\"Times New Roman,serif\" font-size=\"14.00\">samples = 533</text>\r\n",
       "<text text-anchor=\"middle\" x=\"1215\" y=\"-616.8\" font-family=\"Times New Roman,serif\" font-size=\"14.00\">value = [497, 36]</text>\r\n",
       "</g>\r\n",
       "<!-- 28&#45;&gt;32 -->\r\n",
       "<g id=\"edge32\" class=\"edge\"><title>28&#45;&gt;32</title>\r\n",
       "<path fill=\"none\" stroke=\"black\" d=\"M1046.66,-720.655C1077.91,-706.425 1117.08,-688.591 1149.76,-673.706\"/>\r\n",
       "<polygon fill=\"black\" stroke=\"black\" points=\"1151.59,-676.72 1159.24,-669.391 1148.69,-670.35 1151.59,-676.72\"/>\r\n",
       "</g>\r\n",
       "<!-- 30 -->\r\n",
       "<g id=\"node31\" class=\"node\"><title>30</title>\r\n",
       "<polygon fill=\"none\" stroke=\"black\" points=\"1032,-565.5 934,-565.5 934,-512.5 1032,-512.5 1032,-565.5\"/>\r\n",
       "<text text-anchor=\"middle\" x=\"983\" y=\"-550.3\" font-family=\"Times New Roman,serif\" font-size=\"14.00\">gini = 0.0</text>\r\n",
       "<text text-anchor=\"middle\" x=\"983\" y=\"-535.3\" font-family=\"Times New Roman,serif\" font-size=\"14.00\">samples = 24</text>\r\n",
       "<text text-anchor=\"middle\" x=\"983\" y=\"-520.3\" font-family=\"Times New Roman,serif\" font-size=\"14.00\">value = [0, 24]</text>\r\n",
       "</g>\r\n",
       "<!-- 29&#45;&gt;30 -->\r\n",
       "<g id=\"edge30\" class=\"edge\"><title>29&#45;&gt;30</title>\r\n",
       "<path fill=\"none\" stroke=\"black\" d=\"M988.403,-608.884C987.566,-598.216 986.635,-586.352 985.786,-575.519\"/>\r\n",
       "<polygon fill=\"black\" stroke=\"black\" points=\"989.273,-575.216 985.002,-565.52 982.294,-575.763 989.273,-575.216\"/>\r\n",
       "</g>\r\n",
       "<!-- 31 -->\r\n",
       "<g id=\"node32\" class=\"node\"><title>31</title>\r\n",
       "<polygon fill=\"none\" stroke=\"black\" points=\"1141.5,-565.5 1050.5,-565.5 1050.5,-512.5 1141.5,-512.5 1141.5,-565.5\"/>\r\n",
       "<text text-anchor=\"middle\" x=\"1096\" y=\"-550.3\" font-family=\"Times New Roman,serif\" font-size=\"14.00\">gini = 0.0</text>\r\n",
       "<text text-anchor=\"middle\" x=\"1096\" y=\"-535.3\" font-family=\"Times New Roman,serif\" font-size=\"14.00\">samples = 6</text>\r\n",
       "<text text-anchor=\"middle\" x=\"1096\" y=\"-520.3\" font-family=\"Times New Roman,serif\" font-size=\"14.00\">value = [6, 0]</text>\r\n",
       "</g>\r\n",
       "<!-- 29&#45;&gt;31 -->\r\n",
       "<g id=\"edge31\" class=\"edge\"><title>29&#45;&gt;31</title>\r\n",
       "<path fill=\"none\" stroke=\"black\" d=\"M1025.09,-608.884C1037.09,-597.226 1050.56,-584.141 1062.51,-572.532\"/>\r\n",
       "<polygon fill=\"black\" stroke=\"black\" points=\"1065,-574.998 1069.73,-565.52 1060.12,-569.977 1065,-574.998\"/>\r\n",
       "</g>\r\n",
       "<!-- 33 -->\r\n",
       "<g id=\"node34\" class=\"node\"><title>33</title>\r\n",
       "<polygon fill=\"none\" stroke=\"black\" points=\"1270.5,-573 1159.5,-573 1159.5,-505 1270.5,-505 1270.5,-573\"/>\r\n",
       "<text text-anchor=\"middle\" x=\"1215\" y=\"-557.8\" font-family=\"Times New Roman,serif\" font-size=\"14.00\">X[2] &lt;= &#45;2.286</text>\r\n",
       "<text text-anchor=\"middle\" x=\"1215\" y=\"-542.8\" font-family=\"Times New Roman,serif\" font-size=\"14.00\">gini = 0.366</text>\r\n",
       "<text text-anchor=\"middle\" x=\"1215\" y=\"-527.8\" font-family=\"Times New Roman,serif\" font-size=\"14.00\">samples = 137</text>\r\n",
       "<text text-anchor=\"middle\" x=\"1215\" y=\"-512.8\" font-family=\"Times New Roman,serif\" font-size=\"14.00\">value = [104, 33]</text>\r\n",
       "</g>\r\n",
       "<!-- 32&#45;&gt;33 -->\r\n",
       "<g id=\"edge33\" class=\"edge\"><title>32&#45;&gt;33</title>\r\n",
       "<path fill=\"none\" stroke=\"black\" d=\"M1215,-608.884C1215,-600.778 1215,-591.982 1215,-583.472\"/>\r\n",
       "<polygon fill=\"black\" stroke=\"black\" points=\"1218.5,-583.299 1215,-573.299 1211.5,-583.299 1218.5,-583.299\"/>\r\n",
       "</g>\r\n",
       "<!-- 48 -->\r\n",
       "<g id=\"node49\" class=\"node\"><title>48</title>\r\n",
       "<polygon fill=\"none\" stroke=\"black\" points=\"1600,-573 1496,-573 1496,-505 1600,-505 1600,-573\"/>\r\n",
       "<text text-anchor=\"middle\" x=\"1548\" y=\"-557.8\" font-family=\"Times New Roman,serif\" font-size=\"14.00\">X[0] &lt;= 2.037</text>\r\n",
       "<text text-anchor=\"middle\" x=\"1548\" y=\"-542.8\" font-family=\"Times New Roman,serif\" font-size=\"14.00\">gini = 0.015</text>\r\n",
       "<text text-anchor=\"middle\" x=\"1548\" y=\"-527.8\" font-family=\"Times New Roman,serif\" font-size=\"14.00\">samples = 396</text>\r\n",
       "<text text-anchor=\"middle\" x=\"1548\" y=\"-512.8\" font-family=\"Times New Roman,serif\" font-size=\"14.00\">value = [393, 3]</text>\r\n",
       "</g>\r\n",
       "<!-- 32&#45;&gt;48 -->\r\n",
       "<g id=\"edge48\" class=\"edge\"><title>32&#45;&gt;48</title>\r\n",
       "<path fill=\"none\" stroke=\"black\" d=\"M1270.74,-624.927C1330.32,-606.678 1424.52,-577.822 1486.3,-558.9\"/>\r\n",
       "<polygon fill=\"black\" stroke=\"black\" points=\"1487.39,-562.226 1495.92,-555.951 1485.34,-555.533 1487.39,-562.226\"/>\r\n",
       "</g>\r\n",
       "<!-- 34 -->\r\n",
       "<g id=\"node35\" class=\"node\"><title>34</title>\r\n",
       "<polygon fill=\"none\" stroke=\"black\" points=\"1139,-469 1041,-469 1041,-401 1139,-401 1139,-469\"/>\r\n",
       "<text text-anchor=\"middle\" x=\"1090\" y=\"-453.8\" font-family=\"Times New Roman,serif\" font-size=\"14.00\">X[1] &lt;= 5.667</text>\r\n",
       "<text text-anchor=\"middle\" x=\"1090\" y=\"-438.8\" font-family=\"Times New Roman,serif\" font-size=\"14.00\">gini = 0.255</text>\r\n",
       "<text text-anchor=\"middle\" x=\"1090\" y=\"-423.8\" font-family=\"Times New Roman,serif\" font-size=\"14.00\">samples = 20</text>\r\n",
       "<text text-anchor=\"middle\" x=\"1090\" y=\"-408.8\" font-family=\"Times New Roman,serif\" font-size=\"14.00\">value = [3, 17]</text>\r\n",
       "</g>\r\n",
       "<!-- 33&#45;&gt;34 -->\r\n",
       "<g id=\"edge34\" class=\"edge\"><title>33&#45;&gt;34</title>\r\n",
       "<path fill=\"none\" stroke=\"black\" d=\"M1174.42,-504.884C1163.06,-495.62 1150.61,-485.455 1138.83,-475.845\"/>\r\n",
       "<polygon fill=\"black\" stroke=\"black\" points=\"1140.77,-472.91 1130.81,-469.299 1136.34,-478.333 1140.77,-472.91\"/>\r\n",
       "</g>\r\n",
       "<!-- 37 -->\r\n",
       "<g id=\"node38\" class=\"node\"><title>37</title>\r\n",
       "<polygon fill=\"none\" stroke=\"black\" points=\"1270.5,-469 1159.5,-469 1159.5,-401 1270.5,-401 1270.5,-469\"/>\r\n",
       "<text text-anchor=\"middle\" x=\"1215\" y=\"-453.8\" font-family=\"Times New Roman,serif\" font-size=\"14.00\">X[3] &lt;= 0.082</text>\r\n",
       "<text text-anchor=\"middle\" x=\"1215\" y=\"-438.8\" font-family=\"Times New Roman,serif\" font-size=\"14.00\">gini = 0.236</text>\r\n",
       "<text text-anchor=\"middle\" x=\"1215\" y=\"-423.8\" font-family=\"Times New Roman,serif\" font-size=\"14.00\">samples = 117</text>\r\n",
       "<text text-anchor=\"middle\" x=\"1215\" y=\"-408.8\" font-family=\"Times New Roman,serif\" font-size=\"14.00\">value = [101, 16]</text>\r\n",
       "</g>\r\n",
       "<!-- 33&#45;&gt;37 -->\r\n",
       "<g id=\"edge37\" class=\"edge\"><title>33&#45;&gt;37</title>\r\n",
       "<path fill=\"none\" stroke=\"black\" d=\"M1215,-504.884C1215,-496.778 1215,-487.982 1215,-479.472\"/>\r\n",
       "<polygon fill=\"black\" stroke=\"black\" points=\"1218.5,-479.299 1215,-469.299 1211.5,-479.299 1218.5,-479.299\"/>\r\n",
       "</g>\r\n",
       "<!-- 35 -->\r\n",
       "<g id=\"node36\" class=\"node\"><title>35</title>\r\n",
       "<polygon fill=\"none\" stroke=\"black\" points=\"1026,-357.5 928,-357.5 928,-304.5 1026,-304.5 1026,-357.5\"/>\r\n",
       "<text text-anchor=\"middle\" x=\"977\" y=\"-342.3\" font-family=\"Times New Roman,serif\" font-size=\"14.00\">gini = 0.0</text>\r\n",
       "<text text-anchor=\"middle\" x=\"977\" y=\"-327.3\" font-family=\"Times New Roman,serif\" font-size=\"14.00\">samples = 17</text>\r\n",
       "<text text-anchor=\"middle\" x=\"977\" y=\"-312.3\" font-family=\"Times New Roman,serif\" font-size=\"14.00\">value = [0, 17]</text>\r\n",
       "</g>\r\n",
       "<!-- 34&#45;&gt;35 -->\r\n",
       "<g id=\"edge35\" class=\"edge\"><title>34&#45;&gt;35</title>\r\n",
       "<path fill=\"none\" stroke=\"black\" d=\"M1053.31,-400.884C1040.4,-389.226 1025.9,-376.141 1013.04,-364.532\"/>\r\n",
       "<polygon fill=\"black\" stroke=\"black\" points=\"1015.04,-361.622 1005.27,-357.52 1010.35,-366.819 1015.04,-361.622\"/>\r\n",
       "</g>\r\n",
       "<!-- 36 -->\r\n",
       "<g id=\"node37\" class=\"node\"><title>36</title>\r\n",
       "<polygon fill=\"none\" stroke=\"black\" points=\"1135.5,-357.5 1044.5,-357.5 1044.5,-304.5 1135.5,-304.5 1135.5,-357.5\"/>\r\n",
       "<text text-anchor=\"middle\" x=\"1090\" y=\"-342.3\" font-family=\"Times New Roman,serif\" font-size=\"14.00\">gini = 0.0</text>\r\n",
       "<text text-anchor=\"middle\" x=\"1090\" y=\"-327.3\" font-family=\"Times New Roman,serif\" font-size=\"14.00\">samples = 3</text>\r\n",
       "<text text-anchor=\"middle\" x=\"1090\" y=\"-312.3\" font-family=\"Times New Roman,serif\" font-size=\"14.00\">value = [3, 0]</text>\r\n",
       "</g>\r\n",
       "<!-- 34&#45;&gt;36 -->\r\n",
       "<g id=\"edge36\" class=\"edge\"><title>34&#45;&gt;36</title>\r\n",
       "<path fill=\"none\" stroke=\"black\" d=\"M1090,-400.884C1090,-390.326 1090,-378.597 1090,-367.854\"/>\r\n",
       "<polygon fill=\"black\" stroke=\"black\" points=\"1093.5,-367.52 1090,-357.52 1086.5,-367.52 1093.5,-367.52\"/>\r\n",
       "</g>\r\n",
       "<!-- 38 -->\r\n",
       "<g id=\"node39\" class=\"node\"><title>38</title>\r\n",
       "<polygon fill=\"none\" stroke=\"black\" points=\"1252,-365 1154,-365 1154,-297 1252,-297 1252,-365\"/>\r\n",
       "<text text-anchor=\"middle\" x=\"1203\" y=\"-349.8\" font-family=\"Times New Roman,serif\" font-size=\"14.00\">X[0] &lt;= 0.451</text>\r\n",
       "<text text-anchor=\"middle\" x=\"1203\" y=\"-334.8\" font-family=\"Times New Roman,serif\" font-size=\"14.00\">gini = 0.023</text>\r\n",
       "<text text-anchor=\"middle\" x=\"1203\" y=\"-319.8\" font-family=\"Times New Roman,serif\" font-size=\"14.00\">samples = 85</text>\r\n",
       "<text text-anchor=\"middle\" x=\"1203\" y=\"-304.8\" font-family=\"Times New Roman,serif\" font-size=\"14.00\">value = [84, 1]</text>\r\n",
       "</g>\r\n",
       "<!-- 37&#45;&gt;38 -->\r\n",
       "<g id=\"edge38\" class=\"edge\"><title>37&#45;&gt;38</title>\r\n",
       "<path fill=\"none\" stroke=\"black\" d=\"M1211.1,-400.884C1210.15,-392.778 1209.12,-383.982 1208.11,-375.472\"/>\r\n",
       "<polygon fill=\"black\" stroke=\"black\" points=\"1211.56,-374.822 1206.92,-365.299 1204.61,-375.64 1211.56,-374.822\"/>\r\n",
       "</g>\r\n",
       "<!-- 43 -->\r\n",
       "<g id=\"node44\" class=\"node\"><title>43</title>\r\n",
       "<polygon fill=\"none\" stroke=\"black\" points=\"1374,-365 1270,-365 1270,-297 1374,-297 1374,-365\"/>\r\n",
       "<text text-anchor=\"middle\" x=\"1322\" y=\"-349.8\" font-family=\"Times New Roman,serif\" font-size=\"14.00\">X[2] &lt;= 1.853</text>\r\n",
       "<text text-anchor=\"middle\" x=\"1322\" y=\"-334.8\" font-family=\"Times New Roman,serif\" font-size=\"14.00\">gini = 0.498</text>\r\n",
       "<text text-anchor=\"middle\" x=\"1322\" y=\"-319.8\" font-family=\"Times New Roman,serif\" font-size=\"14.00\">samples = 32</text>\r\n",
       "<text text-anchor=\"middle\" x=\"1322\" y=\"-304.8\" font-family=\"Times New Roman,serif\" font-size=\"14.00\">value = [17, 15]</text>\r\n",
       "</g>\r\n",
       "<!-- 37&#45;&gt;43 -->\r\n",
       "<g id=\"edge43\" class=\"edge\"><title>37&#45;&gt;43</title>\r\n",
       "<path fill=\"none\" stroke=\"black\" d=\"M1249.74,-400.884C1259.27,-391.798 1269.71,-381.845 1279.62,-372.4\"/>\r\n",
       "<polygon fill=\"black\" stroke=\"black\" points=\"1282.25,-374.733 1287.07,-365.299 1277.42,-369.666 1282.25,-374.733\"/>\r\n",
       "</g>\r\n",
       "<!-- 39 -->\r\n",
       "<g id=\"node40\" class=\"node\"><title>39</title>\r\n",
       "<polygon fill=\"none\" stroke=\"black\" points=\"1136,-261 1038,-261 1038,-193 1136,-193 1136,-261\"/>\r\n",
       "<text text-anchor=\"middle\" x=\"1087\" y=\"-245.8\" font-family=\"Times New Roman,serif\" font-size=\"14.00\">X[0] &lt;= 0.401</text>\r\n",
       "<text text-anchor=\"middle\" x=\"1087\" y=\"-230.8\" font-family=\"Times New Roman,serif\" font-size=\"14.00\">gini = 0.142</text>\r\n",
       "<text text-anchor=\"middle\" x=\"1087\" y=\"-215.8\" font-family=\"Times New Roman,serif\" font-size=\"14.00\">samples = 13</text>\r\n",
       "<text text-anchor=\"middle\" x=\"1087\" y=\"-200.8\" font-family=\"Times New Roman,serif\" font-size=\"14.00\">value = [12, 1]</text>\r\n",
       "</g>\r\n",
       "<!-- 38&#45;&gt;39 -->\r\n",
       "<g id=\"edge39\" class=\"edge\"><title>38&#45;&gt;39</title>\r\n",
       "<path fill=\"none\" stroke=\"black\" d=\"M1165.34,-296.884C1154.9,-287.709 1143.46,-277.65 1132.63,-268.123\"/>\r\n",
       "<polygon fill=\"black\" stroke=\"black\" points=\"1134.69,-265.274 1124.87,-261.299 1130.07,-270.531 1134.69,-265.274\"/>\r\n",
       "</g>\r\n",
       "<!-- 42 -->\r\n",
       "<g id=\"node43\" class=\"node\"><title>42</title>\r\n",
       "<polygon fill=\"none\" stroke=\"black\" points=\"1252,-253.5 1154,-253.5 1154,-200.5 1252,-200.5 1252,-253.5\"/>\r\n",
       "<text text-anchor=\"middle\" x=\"1203\" y=\"-238.3\" font-family=\"Times New Roman,serif\" font-size=\"14.00\">gini = 0.0</text>\r\n",
       "<text text-anchor=\"middle\" x=\"1203\" y=\"-223.3\" font-family=\"Times New Roman,serif\" font-size=\"14.00\">samples = 72</text>\r\n",
       "<text text-anchor=\"middle\" x=\"1203\" y=\"-208.3\" font-family=\"Times New Roman,serif\" font-size=\"14.00\">value = [72, 0]</text>\r\n",
       "</g>\r\n",
       "<!-- 38&#45;&gt;42 -->\r\n",
       "<g id=\"edge42\" class=\"edge\"><title>38&#45;&gt;42</title>\r\n",
       "<path fill=\"none\" stroke=\"black\" d=\"M1203,-296.884C1203,-286.326 1203,-274.597 1203,-263.854\"/>\r\n",
       "<polygon fill=\"black\" stroke=\"black\" points=\"1206.5,-263.52 1203,-253.52 1199.5,-263.52 1206.5,-263.52\"/>\r\n",
       "</g>\r\n",
       "<!-- 40 -->\r\n",
       "<g id=\"node41\" class=\"node\"><title>40</title>\r\n",
       "<polygon fill=\"none\" stroke=\"black\" points=\"1026,-149.5 928,-149.5 928,-96.5 1026,-96.5 1026,-149.5\"/>\r\n",
       "<text text-anchor=\"middle\" x=\"977\" y=\"-134.3\" font-family=\"Times New Roman,serif\" font-size=\"14.00\">gini = 0.0</text>\r\n",
       "<text text-anchor=\"middle\" x=\"977\" y=\"-119.3\" font-family=\"Times New Roman,serif\" font-size=\"14.00\">samples = 12</text>\r\n",
       "<text text-anchor=\"middle\" x=\"977\" y=\"-104.3\" font-family=\"Times New Roman,serif\" font-size=\"14.00\">value = [12, 0]</text>\r\n",
       "</g>\r\n",
       "<!-- 39&#45;&gt;40 -->\r\n",
       "<g id=\"edge40\" class=\"edge\"><title>39&#45;&gt;40</title>\r\n",
       "<path fill=\"none\" stroke=\"black\" d=\"M1051.29,-192.884C1038.71,-181.226 1024.6,-168.141 1012.08,-156.532\"/>\r\n",
       "<polygon fill=\"black\" stroke=\"black\" points=\"1014.23,-153.753 1004.52,-149.52 1009.47,-158.886 1014.23,-153.753\"/>\r\n",
       "</g>\r\n",
       "<!-- 41 -->\r\n",
       "<g id=\"node42\" class=\"node\"><title>41</title>\r\n",
       "<polygon fill=\"none\" stroke=\"black\" points=\"1135.5,-149.5 1044.5,-149.5 1044.5,-96.5 1135.5,-96.5 1135.5,-149.5\"/>\r\n",
       "<text text-anchor=\"middle\" x=\"1090\" y=\"-134.3\" font-family=\"Times New Roman,serif\" font-size=\"14.00\">gini = 0.0</text>\r\n",
       "<text text-anchor=\"middle\" x=\"1090\" y=\"-119.3\" font-family=\"Times New Roman,serif\" font-size=\"14.00\">samples = 1</text>\r\n",
       "<text text-anchor=\"middle\" x=\"1090\" y=\"-104.3\" font-family=\"Times New Roman,serif\" font-size=\"14.00\">value = [0, 1]</text>\r\n",
       "</g>\r\n",
       "<!-- 39&#45;&gt;41 -->\r\n",
       "<g id=\"edge41\" class=\"edge\"><title>39&#45;&gt;41</title>\r\n",
       "<path fill=\"none\" stroke=\"black\" d=\"M1087.97,-192.884C1088.29,-182.216 1088.64,-170.352 1088.96,-159.519\"/>\r\n",
       "<polygon fill=\"black\" stroke=\"black\" points=\"1092.45,-159.619 1089.25,-149.52 1085.46,-159.413 1092.45,-159.619\"/>\r\n",
       "</g>\r\n",
       "<!-- 44 -->\r\n",
       "<g id=\"node45\" class=\"node\"><title>44</title>\r\n",
       "<polygon fill=\"none\" stroke=\"black\" points=\"1368,-261 1270,-261 1270,-193 1368,-193 1368,-261\"/>\r\n",
       "<text text-anchor=\"middle\" x=\"1319\" y=\"-245.8\" font-family=\"Times New Roman,serif\" font-size=\"14.00\">X[1] &lt;= 3.7</text>\r\n",
       "<text text-anchor=\"middle\" x=\"1319\" y=\"-230.8\" font-family=\"Times New Roman,serif\" font-size=\"14.00\">gini = 0.117</text>\r\n",
       "<text text-anchor=\"middle\" x=\"1319\" y=\"-215.8\" font-family=\"Times New Roman,serif\" font-size=\"14.00\">samples = 16</text>\r\n",
       "<text text-anchor=\"middle\" x=\"1319\" y=\"-200.8\" font-family=\"Times New Roman,serif\" font-size=\"14.00\">value = [1, 15]</text>\r\n",
       "</g>\r\n",
       "<!-- 43&#45;&gt;44 -->\r\n",
       "<g id=\"edge44\" class=\"edge\"><title>43&#45;&gt;44</title>\r\n",
       "<path fill=\"none\" stroke=\"black\" d=\"M1321.03,-296.884C1320.79,-288.778 1320.53,-279.982 1320.28,-271.472\"/>\r\n",
       "<polygon fill=\"black\" stroke=\"black\" points=\"1323.77,-271.192 1319.98,-261.299 1316.77,-271.398 1323.77,-271.192\"/>\r\n",
       "</g>\r\n",
       "<!-- 47 -->\r\n",
       "<g id=\"node48\" class=\"node\"><title>47</title>\r\n",
       "<polygon fill=\"none\" stroke=\"black\" points=\"1484,-253.5 1386,-253.5 1386,-200.5 1484,-200.5 1484,-253.5\"/>\r\n",
       "<text text-anchor=\"middle\" x=\"1435\" y=\"-238.3\" font-family=\"Times New Roman,serif\" font-size=\"14.00\">gini = 0.0</text>\r\n",
       "<text text-anchor=\"middle\" x=\"1435\" y=\"-223.3\" font-family=\"Times New Roman,serif\" font-size=\"14.00\">samples = 16</text>\r\n",
       "<text text-anchor=\"middle\" x=\"1435\" y=\"-208.3\" font-family=\"Times New Roman,serif\" font-size=\"14.00\">value = [16, 0]</text>\r\n",
       "</g>\r\n",
       "<!-- 43&#45;&gt;47 -->\r\n",
       "<g id=\"edge47\" class=\"edge\"><title>43&#45;&gt;47</title>\r\n",
       "<path fill=\"none\" stroke=\"black\" d=\"M1358.69,-296.884C1371.6,-285.226 1386.1,-272.141 1398.96,-260.532\"/>\r\n",
       "<polygon fill=\"black\" stroke=\"black\" points=\"1401.65,-262.819 1406.73,-253.52 1396.96,-257.622 1401.65,-262.819\"/>\r\n",
       "</g>\r\n",
       "<!-- 45 -->\r\n",
       "<g id=\"node46\" class=\"node\"><title>45</title>\r\n",
       "<polygon fill=\"none\" stroke=\"black\" points=\"1311,-149.5 1213,-149.5 1213,-96.5 1311,-96.5 1311,-149.5\"/>\r\n",
       "<text text-anchor=\"middle\" x=\"1262\" y=\"-134.3\" font-family=\"Times New Roman,serif\" font-size=\"14.00\">gini = 0.0</text>\r\n",
       "<text text-anchor=\"middle\" x=\"1262\" y=\"-119.3\" font-family=\"Times New Roman,serif\" font-size=\"14.00\">samples = 15</text>\r\n",
       "<text text-anchor=\"middle\" x=\"1262\" y=\"-104.3\" font-family=\"Times New Roman,serif\" font-size=\"14.00\">value = [0, 15]</text>\r\n",
       "</g>\r\n",
       "<!-- 44&#45;&gt;45 -->\r\n",
       "<g id=\"edge45\" class=\"edge\"><title>44&#45;&gt;45</title>\r\n",
       "<path fill=\"none\" stroke=\"black\" d=\"M1300.49,-192.884C1294.35,-181.886 1287.49,-169.617 1281.29,-158.517\"/>\r\n",
       "<polygon fill=\"black\" stroke=\"black\" points=\"1284.19,-156.542 1276.26,-149.52 1278.08,-159.957 1284.19,-156.542\"/>\r\n",
       "</g>\r\n",
       "<!-- 46 -->\r\n",
       "<g id=\"node47\" class=\"node\"><title>46</title>\r\n",
       "<polygon fill=\"none\" stroke=\"black\" points=\"1420.5,-149.5 1329.5,-149.5 1329.5,-96.5 1420.5,-96.5 1420.5,-149.5\"/>\r\n",
       "<text text-anchor=\"middle\" x=\"1375\" y=\"-134.3\" font-family=\"Times New Roman,serif\" font-size=\"14.00\">gini = 0.0</text>\r\n",
       "<text text-anchor=\"middle\" x=\"1375\" y=\"-119.3\" font-family=\"Times New Roman,serif\" font-size=\"14.00\">samples = 1</text>\r\n",
       "<text text-anchor=\"middle\" x=\"1375\" y=\"-104.3\" font-family=\"Times New Roman,serif\" font-size=\"14.00\">value = [1, 0]</text>\r\n",
       "</g>\r\n",
       "<!-- 44&#45;&gt;46 -->\r\n",
       "<g id=\"edge46\" class=\"edge\"><title>44&#45;&gt;46</title>\r\n",
       "<path fill=\"none\" stroke=\"black\" d=\"M1337.18,-192.884C1343.22,-181.886 1349.96,-169.617 1356.05,-158.517\"/>\r\n",
       "<polygon fill=\"black\" stroke=\"black\" points=\"1359.24,-159.97 1360.99,-149.52 1353.11,-156.601 1359.24,-159.97\"/>\r\n",
       "</g>\r\n",
       "<!-- 49 -->\r\n",
       "<g id=\"node50\" class=\"node\"><title>49</title>\r\n",
       "<polygon fill=\"none\" stroke=\"black\" points=\"1598.5,-469 1497.5,-469 1497.5,-401 1598.5,-401 1598.5,-469\"/>\r\n",
       "<text text-anchor=\"middle\" x=\"1548\" y=\"-453.8\" font-family=\"Times New Roman,serif\" font-size=\"14.00\">X[2] &lt;= &#45;2.648</text>\r\n",
       "<text text-anchor=\"middle\" x=\"1548\" y=\"-438.8\" font-family=\"Times New Roman,serif\" font-size=\"14.00\">gini = 0.117</text>\r\n",
       "<text text-anchor=\"middle\" x=\"1548\" y=\"-423.8\" font-family=\"Times New Roman,serif\" font-size=\"14.00\">samples = 48</text>\r\n",
       "<text text-anchor=\"middle\" x=\"1548\" y=\"-408.8\" font-family=\"Times New Roman,serif\" font-size=\"14.00\">value = [45, 3]</text>\r\n",
       "</g>\r\n",
       "<!-- 48&#45;&gt;49 -->\r\n",
       "<g id=\"edge49\" class=\"edge\"><title>48&#45;&gt;49</title>\r\n",
       "<path fill=\"none\" stroke=\"black\" d=\"M1548,-504.884C1548,-496.778 1548,-487.982 1548,-479.472\"/>\r\n",
       "<polygon fill=\"black\" stroke=\"black\" points=\"1551.5,-479.299 1548,-469.299 1544.5,-479.299 1551.5,-479.299\"/>\r\n",
       "</g>\r\n",
       "<!-- 54 -->\r\n",
       "<g id=\"node55\" class=\"node\"><title>54</title>\r\n",
       "<polygon fill=\"none\" stroke=\"black\" points=\"1721,-461.5 1617,-461.5 1617,-408.5 1721,-408.5 1721,-461.5\"/>\r\n",
       "<text text-anchor=\"middle\" x=\"1669\" y=\"-446.3\" font-family=\"Times New Roman,serif\" font-size=\"14.00\">gini = 0.0</text>\r\n",
       "<text text-anchor=\"middle\" x=\"1669\" y=\"-431.3\" font-family=\"Times New Roman,serif\" font-size=\"14.00\">samples = 348</text>\r\n",
       "<text text-anchor=\"middle\" x=\"1669\" y=\"-416.3\" font-family=\"Times New Roman,serif\" font-size=\"14.00\">value = [348, 0]</text>\r\n",
       "</g>\r\n",
       "<!-- 48&#45;&gt;54 -->\r\n",
       "<g id=\"edge54\" class=\"edge\"><title>48&#45;&gt;54</title>\r\n",
       "<path fill=\"none\" stroke=\"black\" d=\"M1587.29,-504.884C1601.24,-493.116 1616.93,-479.894 1630.8,-468.203\"/>\r\n",
       "<polygon fill=\"black\" stroke=\"black\" points=\"1633.34,-470.641 1638.73,-461.52 1628.82,-465.289 1633.34,-470.641\"/>\r\n",
       "</g>\r\n",
       "<!-- 50 -->\r\n",
       "<g id=\"node51\" class=\"node\"><title>50</title>\r\n",
       "<polygon fill=\"none\" stroke=\"black\" points=\"1598.5,-365 1497.5,-365 1497.5,-297 1598.5,-297 1598.5,-365\"/>\r\n",
       "<text text-anchor=\"middle\" x=\"1548\" y=\"-349.8\" font-family=\"Times New Roman,serif\" font-size=\"14.00\">X[3] &lt;= &#45;1.796</text>\r\n",
       "<text text-anchor=\"middle\" x=\"1548\" y=\"-334.8\" font-family=\"Times New Roman,serif\" font-size=\"14.00\">gini = 0.375</text>\r\n",
       "<text text-anchor=\"middle\" x=\"1548\" y=\"-319.8\" font-family=\"Times New Roman,serif\" font-size=\"14.00\">samples = 4</text>\r\n",
       "<text text-anchor=\"middle\" x=\"1548\" y=\"-304.8\" font-family=\"Times New Roman,serif\" font-size=\"14.00\">value = [1, 3]</text>\r\n",
       "</g>\r\n",
       "<!-- 49&#45;&gt;50 -->\r\n",
       "<g id=\"edge50\" class=\"edge\"><title>49&#45;&gt;50</title>\r\n",
       "<path fill=\"none\" stroke=\"black\" d=\"M1548,-400.884C1548,-392.778 1548,-383.982 1548,-375.472\"/>\r\n",
       "<polygon fill=\"black\" stroke=\"black\" points=\"1551.5,-375.299 1548,-365.299 1544.5,-375.299 1551.5,-375.299\"/>\r\n",
       "</g>\r\n",
       "<!-- 53 -->\r\n",
       "<g id=\"node54\" class=\"node\"><title>53</title>\r\n",
       "<polygon fill=\"none\" stroke=\"black\" points=\"1715,-357.5 1617,-357.5 1617,-304.5 1715,-304.5 1715,-357.5\"/>\r\n",
       "<text text-anchor=\"middle\" x=\"1666\" y=\"-342.3\" font-family=\"Times New Roman,serif\" font-size=\"14.00\">gini = 0.0</text>\r\n",
       "<text text-anchor=\"middle\" x=\"1666\" y=\"-327.3\" font-family=\"Times New Roman,serif\" font-size=\"14.00\">samples = 44</text>\r\n",
       "<text text-anchor=\"middle\" x=\"1666\" y=\"-312.3\" font-family=\"Times New Roman,serif\" font-size=\"14.00\">value = [44, 0]</text>\r\n",
       "</g>\r\n",
       "<!-- 49&#45;&gt;53 -->\r\n",
       "<g id=\"edge53\" class=\"edge\"><title>49&#45;&gt;53</title>\r\n",
       "<path fill=\"none\" stroke=\"black\" d=\"M1586.31,-400.884C1599.92,-389.116 1615.22,-375.894 1628.75,-364.203\"/>\r\n",
       "<polygon fill=\"black\" stroke=\"black\" points=\"1631.2,-366.707 1636.48,-357.52 1626.62,-361.412 1631.2,-366.707\"/>\r\n",
       "</g>\r\n",
       "<!-- 51 -->\r\n",
       "<g id=\"node52\" class=\"node\"><title>51</title>\r\n",
       "<polygon fill=\"none\" stroke=\"black\" points=\"1593.5,-253.5 1502.5,-253.5 1502.5,-200.5 1593.5,-200.5 1593.5,-253.5\"/>\r\n",
       "<text text-anchor=\"middle\" x=\"1548\" y=\"-238.3\" font-family=\"Times New Roman,serif\" font-size=\"14.00\">gini = 0.0</text>\r\n",
       "<text text-anchor=\"middle\" x=\"1548\" y=\"-223.3\" font-family=\"Times New Roman,serif\" font-size=\"14.00\">samples = 1</text>\r\n",
       "<text text-anchor=\"middle\" x=\"1548\" y=\"-208.3\" font-family=\"Times New Roman,serif\" font-size=\"14.00\">value = [1, 0]</text>\r\n",
       "</g>\r\n",
       "<!-- 50&#45;&gt;51 -->\r\n",
       "<g id=\"edge51\" class=\"edge\"><title>50&#45;&gt;51</title>\r\n",
       "<path fill=\"none\" stroke=\"black\" d=\"M1548,-296.884C1548,-286.326 1548,-274.597 1548,-263.854\"/>\r\n",
       "<polygon fill=\"black\" stroke=\"black\" points=\"1551.5,-263.52 1548,-253.52 1544.5,-263.52 1551.5,-263.52\"/>\r\n",
       "</g>\r\n",
       "<!-- 52 -->\r\n",
       "<g id=\"node53\" class=\"node\"><title>52</title>\r\n",
       "<polygon fill=\"none\" stroke=\"black\" points=\"1702.5,-253.5 1611.5,-253.5 1611.5,-200.5 1702.5,-200.5 1702.5,-253.5\"/>\r\n",
       "<text text-anchor=\"middle\" x=\"1657\" y=\"-238.3\" font-family=\"Times New Roman,serif\" font-size=\"14.00\">gini = 0.0</text>\r\n",
       "<text text-anchor=\"middle\" x=\"1657\" y=\"-223.3\" font-family=\"Times New Roman,serif\" font-size=\"14.00\">samples = 3</text>\r\n",
       "<text text-anchor=\"middle\" x=\"1657\" y=\"-208.3\" font-family=\"Times New Roman,serif\" font-size=\"14.00\">value = [0, 3]</text>\r\n",
       "</g>\r\n",
       "<!-- 50&#45;&gt;52 -->\r\n",
       "<g id=\"edge52\" class=\"edge\"><title>50&#45;&gt;52</title>\r\n",
       "<path fill=\"none\" stroke=\"black\" d=\"M1583.39,-296.884C1595.85,-285.226 1609.83,-272.141 1622.24,-260.532\"/>\r\n",
       "<polygon fill=\"black\" stroke=\"black\" points=\"1624.82,-262.908 1629.73,-253.52 1620.04,-257.797 1624.82,-262.908\"/>\r\n",
       "</g>\r\n",
       "</g>\r\n",
       "</svg>\r\n"
      ],
      "text/plain": [
       "<graphviz.files.Source at 0x17721e50be0>"
      ]
     },
     "execution_count": 15,
     "metadata": {},
     "output_type": "execute_result"
    }
   ],
   "source": [
    "import graphviz \n",
    "graph = graphviz.Source(dot_data)\n",
    "graph"
   ]
  },
  {
   "cell_type": "code",
   "execution_count": null,
   "metadata": {},
   "outputs": [],
   "source": []
  }
 ],
 "metadata": {
  "colab": {
   "collapsed_sections": [],
   "default_view": {},
   "name": "kNN-DecisionTree-thuanle-v2.ipynb",
   "provenance": [],
   "version": "0.3.2",
   "views": {}
  },
  "kernelspec": {
   "display_name": "Python 3",
   "language": "python",
   "name": "python3"
  },
  "language_info": {
   "codemirror_mode": {
    "name": "ipython",
    "version": 3
   },
   "file_extension": ".py",
   "mimetype": "text/x-python",
   "name": "python",
   "nbconvert_exporter": "python",
   "pygments_lexer": "ipython3",
   "version": "3.6.6"
  }
 },
 "nbformat": 4,
 "nbformat_minor": 1
}
